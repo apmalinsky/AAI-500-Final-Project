{
 "cells": [
  {
   "cell_type": "code",
   "execution_count": 3,
   "id": "initial_id",
   "metadata": {
    "jupyter": {
     "is_executing": true
    }
   },
   "outputs": [],
   "source": [
    "import pandas as pd\n",
    "from sklearn.feature_selection import RFE\n",
    "from sklearn.linear_model import LinearRegression\n",
    "import statsmodels.api as sm\n",
    "\n",
    "from sklearn.linear_model import LinearRegression\n",
    "from sklearn.feature_selection import RFE\n",
    "from sklearn.model_selection import train_test_split\n",
    "\n",
    "math_student_df = pd.read_csv('student-mat.csv', delimiter=';')\n",
    "language_student_df = pd.read_csv('student-por.csv', delimiter=';')"
   ]
  },
  {
   "cell_type": "markdown",
   "id": "94d2323e13f5a3bf",
   "metadata": {},
   "source": [
    "#### Tasks:\n",
    "\n",
    "##### Investigate impact of demographic factors on final grades\n",
    "##### Compare across schools"
   ]
  },
  {
   "cell_type": "code",
   "execution_count": 4,
   "id": "342abdb7a59b2d41",
   "metadata": {
    "ExecuteTime": {
     "end_time": "2024-06-17T23:28:44.559339Z",
     "start_time": "2024-06-17T23:28:44.553730Z"
    }
   },
   "outputs": [],
   "source": [
    "math_GabPer_school = math_student_df[math_student_df['school'] == 'GP']\n",
    "language_GabPer_school = language_student_df[language_student_df['school'] == 'GP']\n",
    "\n",
    "math_Mous_school = math_student_df[math_student_df['school'] == 'MS']\n",
    "language_Mous_school = language_student_df[language_student_df['school'] == 'MS']"
   ]
  },
  {
   "cell_type": "code",
   "execution_count": 23,
   "id": "126f6b2f2c6f4a57",
   "metadata": {
    "ExecuteTime": {
     "end_time": "2024-06-18T22:57:29.211441Z",
     "start_time": "2024-06-18T22:57:29.180360Z"
    }
   },
   "outputs": [],
   "source": [
    "# Drop non-demographic columns\n",
    "demo_math_GabPer_school = math_GabPer_school.drop(['school', 'address', 'reason', 'traveltime', 'studytime', 'failures', 'schoolsup', 'famsup', 'paid', 'activities', 'nursery', 'higher', 'internet', 'famrel', 'freetime', 'goout', 'Dalc', 'Walc', 'absences', 'G1', 'G2', 'G3', 'romantic'], axis=1)\n",
    "demo_language_GabPer_school = language_GabPer_school.drop(['school', 'address', 'reason', 'traveltime', 'studytime', 'failures', 'schoolsup', 'famsup', 'paid', 'activities', 'nursery', 'higher', 'internet', 'famrel', 'freetime', 'goout', 'Dalc', 'Walc', 'absences', 'G1', 'G2', 'G3', 'romantic'], axis=1)\n",
    "\n",
    "demo_math_Mous_school = math_Mous_school.drop(['school', 'address', 'reason', 'traveltime', 'studytime', 'failures', 'schoolsup', 'famsup', 'paid', 'activities', 'nursery', 'higher', 'internet', 'famrel', 'freetime', 'goout', 'Dalc', 'Walc', 'absences', 'G1', 'G2', 'G3', 'romantic'], axis=1)\n",
    "demo_language_Mous_school = language_Mous_school.drop(['school', 'address', 'reason', 'traveltime', 'studytime', 'failures', 'schoolsup', 'famsup', 'paid', 'activities', 'nursery', 'higher', 'internet', 'famrel', 'freetime', 'goout', 'Dalc', 'Walc', 'absences', 'G1', 'G2', 'G3', 'romantic'], axis=1)\n",
    "\n",
    "\n",
    "# Change 'Medu', 'Fedu', and 'health' columns into strings for label encoding\n",
    "convert_type = {'Medu': str, 'Fedu': str, 'health': str}\n",
    "\n",
    "demo_math_GabPer_school = demo_math_GabPer_school.astype(convert_type)\n",
    "demo_language_GabPer_school = demo_language_GabPer_school.astype(convert_type)\n",
    "demo_math_Mous_school = demo_math_Mous_school.astype(convert_type)\n",
    "demo_language_Mous_school = demo_language_Mous_school.astype(convert_type)\n",
    "\n",
    "# Encode labels\n",
    "demo_math_GabPer_school_dummies = pd.get_dummies(demo_math_GabPer_school, drop_first=True, dtype=int)\n",
    "demo_language_GabPer_school_dummies = pd.get_dummies(demo_language_GabPer_school, drop_first=True)\n",
    "demo_math_Mous_school_dummies = pd.get_dummies(demo_math_Mous_school, drop_first=True)\n",
    "demo_language_Mous_school_dummies = pd.get_dummies(demo_language_Mous_school, drop_first=True)\n",
    "\n",
    "# G3 Response Variable\n",
    "G3_math_gab = math_GabPer_school['G3']\n",
    "G3_lang_gab = language_GabPer_school['G3']\n",
    "G3_math_mous = math_Mous_school['G3']\n",
    "G3_lang_mous = language_Mous_school['G3']"
   ]
  },
  {
   "cell_type": "code",
   "execution_count": 25,
   "id": "f27c3b0c1f2c958d",
   "metadata": {
    "jupyter": {
     "is_executing": true
    }
   },
   "outputs": [
    {
     "name": "stdout",
     "output_type": "stream",
     "text": [
      "Selected features: Index(['Fedu_1', 'Fedu_2'], dtype='object')\n",
      "                            OLS Regression Results                            \n",
      "==============================================================================\n",
      "Dep. Variable:                     G3   R-squared:                       0.018\n",
      "Model:                            OLS   Adj. R-squared:                  0.012\n",
      "Method:                 Least Squares   F-statistic:                     3.190\n",
      "Date:                Tue, 18 Jun 2024   Prob (F-statistic):             0.0424\n",
      "Time:                        17:46:48   Log-Likelihood:                -1026.0\n",
      "No. Observations:                 349   AIC:                             2058.\n",
      "Df Residuals:                     346   BIC:                             2070.\n",
      "Df Model:                           2                                         \n",
      "Covariance Type:            nonrobust                                         \n",
      "==============================================================================\n",
      "                 coef    std err          t      P>|t|      [0.025      0.975]\n",
      "------------------------------------------------------------------------------\n",
      "const         11.0223      0.344     32.082      0.000      10.347      11.698\n",
      "Fedu_1        -1.6194      0.658     -2.460      0.014      -2.914      -0.325\n",
      "Fedu_2        -0.7505      0.568     -1.320      0.188      -1.869       0.368\n",
      "==============================================================================\n",
      "Omnibus:                       30.189   Durbin-Watson:                   1.998\n",
      "Prob(Omnibus):                  0.000   Jarque-Bera (JB):               35.452\n",
      "Skew:                          -0.757   Prob(JB):                     2.00e-08\n",
      "Kurtosis:                       3.381   Cond. No.                         3.27\n",
      "==============================================================================\n",
      "\n",
      "Notes:\n",
      "[1] Standard Errors assume that the covariance matrix of the errors is correctly specified.\n"
     ]
    }
   ],
   "source": [
    "# Reduce number of features using Recursive Feature Elimination (RFE) and fit linear regression for math class at Gabriel Pereira\n",
    "\n",
    "model = LinearRegression()\n",
    "rfe = RFE(estimator=model, n_features_to_select=2)\n",
    "rfe = rfe.fit(demo_math_GabPer_school_dummies, G3_math_gab)\n",
    "\n",
    "# Get the selected features\n",
    "selected_features = demo_math_GabPer_school_dummies.columns[rfe.support_]\n",
    "print(\"Selected features:\", selected_features)\n",
    "\n",
    "# Fit the model again with selected features\n",
    "X_selected = demo_math_GabPer_school_dummies[selected_features]\n",
    "X_selected = sm.add_constant(X_selected)\n",
    "model_selected = sm.OLS(G3_math_gab, X_selected).fit()\n",
    "print(model_selected.summary())"
   ]
  },
  {
   "cell_type": "code",
   "execution_count": 27,
   "id": "4500df6d0325eeb5",
   "metadata": {},
   "outputs": [
    {
     "name": "stdout",
     "output_type": "stream",
     "text": [
      "Selected features: Index(['sex_M', 'Medu_4'], dtype='object')\n",
      "                            OLS Regression Results                            \n",
      "==============================================================================\n",
      "Dep. Variable:                     G3   R-squared:                       0.091\n",
      "Model:                            OLS   Adj. R-squared:                  0.086\n",
      "Method:                 Least Squares   F-statistic:                     20.92\n",
      "Date:                Tue, 18 Jun 2024   Prob (F-statistic):           2.18e-09\n",
      "Time:                        17:47:20   Log-Likelihood:                -987.96\n",
      "No. Observations:                 423   AIC:                             1982.\n",
      "Df Residuals:                     420   BIC:                             1994.\n",
      "Df Model:                           2                                         \n",
      "Covariance Type:            nonrobust                                         \n",
      "==============================================================================\n",
      "                 coef    std err          t      P>|t|      [0.025      0.975]\n",
      "------------------------------------------------------------------------------\n",
      "const         12.6344      0.178     70.855      0.000      12.284      12.985\n",
      "sex_M         -1.1096      0.247     -4.486      0.000      -1.596      -0.623\n",
      "Medu_4         1.3483      0.263      5.120      0.000       0.831       1.866\n",
      "==============================================================================\n",
      "Omnibus:                       13.774   Durbin-Watson:                   1.679\n",
      "Prob(Omnibus):                  0.001   Jarque-Bera (JB):               26.052\n",
      "Skew:                          -0.143   Prob(JB):                     2.20e-06\n",
      "Kurtosis:                       4.182   Cond. No.                         2.69\n",
      "==============================================================================\n",
      "\n",
      "Notes:\n",
      "[1] Standard Errors assume that the covariance matrix of the errors is correctly specified.\n"
     ]
    }
   ],
   "source": [
    "# Reduce number of features using Recursive Feature Elimination (RFE) and fit linear regression for langauge class at Gabriel Pereira\n",
    "\n",
    "model = LinearRegression()\n",
    "rfe = RFE(estimator=model, n_features_to_select=2)\n",
    "rfe = rfe.fit(demo_language_GabPer_school_dummies, G3_lang_gab)\n",
    "\n",
    "# Get the selected features\n",
    "selected_features = demo_language_GabPer_school_dummies.columns[rfe.support_]\n",
    "print(\"Selected features:\", selected_features)\n",
    "\n",
    "# Fit the model again with selected features\n",
    "X_selected = demo_language_GabPer_school_dummies[selected_features]\n",
    "X_selected = sm.add_constant(X_selected)\n",
    "model_selected = sm.OLS(G3_lang_gab, X_selected.astype(int)).fit()\n",
    "print(model_selected.summary())"
   ]
  },
  {
   "cell_type": "code",
   "execution_count": 36,
   "id": "697c2af6-dc79-4336-9ac4-efbcf2521ae7",
   "metadata": {},
   "outputs": [
    {
     "name": "stdout",
     "output_type": "stream",
     "text": [
      "Selected features: Index(['Fedu_4', 'Mjob_teacher'], dtype='object')\n",
      "                            OLS Regression Results                            \n",
      "==============================================================================\n",
      "Dep. Variable:                     G3   R-squared:                       0.138\n",
      "Model:                            OLS   Adj. R-squared:                  0.098\n",
      "Method:                 Least Squares   F-statistic:                     3.442\n",
      "Date:                Tue, 18 Jun 2024   Prob (F-statistic):             0.0411\n",
      "Time:                        18:14:09   Log-Likelihood:                -127.77\n",
      "No. Observations:                  46   AIC:                             261.5\n",
      "Df Residuals:                      43   BIC:                             267.0\n",
      "Df Model:                           2                                         \n",
      "Covariance Type:            nonrobust                                         \n",
      "================================================================================\n",
      "                   coef    std err          t      P>|t|      [0.025      0.975]\n",
      "--------------------------------------------------------------------------------\n",
      "const            9.2340      0.664     13.898      0.000       7.894      10.574\n",
      "Fedu_4           4.9098      1.911      2.569      0.014       1.055       8.764\n",
      "Mjob_teacher    -2.6588      2.251     -1.181      0.244      -7.199       1.882\n",
      "==============================================================================\n",
      "Omnibus:                        6.949   Durbin-Watson:                   2.073\n",
      "Prob(Omnibus):                  0.031   Jarque-Bera (JB):                5.825\n",
      "Skew:                          -0.810   Prob(JB):                       0.0543\n",
      "Kurtosis:                       3.643   Cond. No.                         4.66\n",
      "==============================================================================\n",
      "\n",
      "Notes:\n",
      "[1] Standard Errors assume that the covariance matrix of the errors is correctly specified.\n"
     ]
    }
   ],
   "source": [
    "# Reduce number of features using Recursive Feature Elimination (RFE) and fit linear regression for math class at Mous\n",
    "\n",
    "model = LinearRegression()\n",
    "rfe = RFE(estimator=model, n_features_to_select=2)\n",
    "rfe = rfe.fit(demo_math_Mous_school_dummies, G3_math_mous)\n",
    "\n",
    "# Get the selected features\n",
    "selected_features = demo_math_Mous_school_dummies.columns[rfe.support_]\n",
    "print(\"Selected features:\", selected_features)\n",
    "\n",
    "# Fit the model again with selected features\n",
    "X_selected = demo_math_Mous_school_dummies[selected_features]\n",
    "X_selected = sm.add_constant(X_selected)\n",
    "model_selected = sm.OLS(G3_math_mous, X_selected.astype(int)).fit()\n",
    "print(model_selected.summary())"
   ]
  },
  {
   "cell_type": "code",
   "execution_count": 37,
   "id": "e2d33f72-1842-4968-bfa9-3f1fa661945e",
   "metadata": {},
   "outputs": [
    {
     "name": "stdout",
     "output_type": "stream",
     "text": [
      "Selected features: Index(['famsize_LE3', 'Fjob_teacher'], dtype='object')\n",
      "                            OLS Regression Results                            \n",
      "==============================================================================\n",
      "Dep. Variable:                     G3   R-squared:                       0.044\n",
      "Model:                            OLS   Adj. R-squared:                  0.036\n",
      "Method:                 Least Squares   F-statistic:                     5.188\n",
      "Date:                Tue, 18 Jun 2024   Prob (F-statistic):            0.00628\n",
      "Time:                        18:17:21   Log-Likelihood:                -618.76\n",
      "No. Observations:                 226   AIC:                             1244.\n",
      "Df Residuals:                     223   BIC:                             1254.\n",
      "Df Model:                           2                                         \n",
      "Covariance Type:            nonrobust                                         \n",
      "================================================================================\n",
      "                   coef    std err          t      P>|t|      [0.025      0.975]\n",
      "--------------------------------------------------------------------------------\n",
      "const           10.1400      0.307     32.989      0.000       9.534      10.746\n",
      "famsize_LE3      1.3314      0.545      2.443      0.015       0.258       2.405\n",
      "Fjob_teacher     3.6933      1.567      2.356      0.019       0.605       6.782\n",
      "==============================================================================\n",
      "Omnibus:                       41.173   Durbin-Watson:                   1.949\n",
      "Prob(Omnibus):                  0.000   Jarque-Bera (JB):               72.465\n",
      "Skew:                          -0.957   Prob(JB):                     1.84e-16\n",
      "Kurtosis:                       5.008   Cond. No.                         6.63\n",
      "==============================================================================\n",
      "\n",
      "Notes:\n",
      "[1] Standard Errors assume that the covariance matrix of the errors is correctly specified.\n"
     ]
    }
   ],
   "source": [
    "# Reduce number of features using Recursive Feature Elimination (RFE) and fit linear regression for language class at Mous\n",
    "\n",
    "model = LinearRegression()\n",
    "rfe = RFE(estimator=model, n_features_to_select=2)\n",
    "rfe = rfe.fit(demo_language_Mous_school_dummies, G3_lang_mous)\n",
    "\n",
    "# Get the selected features\n",
    "selected_features = demo_language_Mous_school_dummies.columns[rfe.support_]\n",
    "print(\"Selected features:\", selected_features)\n",
    "\n",
    "# Fit the model again with selected features\n",
    "X_selected = demo_language_Mous_school_dummies[selected_features]\n",
    "X_selected = sm.add_constant(X_selected)\n",
    "model_selected = sm.OLS(G3_lang_mous, X_selected.astype(int)).fit()\n",
    "print(model_selected.summary())"
   ]
  },
  {
   "cell_type": "code",
   "execution_count": null,
   "id": "c9b5090c-7fdc-4c1d-a045-98e6c9860b4e",
   "metadata": {},
   "outputs": [],
   "source": []
  }
 ],
 "metadata": {
  "kernelspec": {
   "display_name": "Python 3 (ipykernel)",
   "language": "python",
   "name": "python3"
  },
  "language_info": {
   "codemirror_mode": {
    "name": "ipython",
    "version": 3
   },
   "file_extension": ".py",
   "mimetype": "text/x-python",
   "name": "python",
   "nbconvert_exporter": "python",
   "pygments_lexer": "ipython3",
   "version": "3.12.4"
  }
 },
 "nbformat": 4,
 "nbformat_minor": 5
}
