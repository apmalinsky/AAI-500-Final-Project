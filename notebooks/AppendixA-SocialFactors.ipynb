{
 "cells": [
  {
   "cell_type": "markdown",
   "metadata": {
    "id": "C8_mE4t-Rgjg"
   },
   "source": [
    "<h1 align=\"center\">Appendix A</h1>\n",
    "<h2 align=\"center\">Impact of Social Factors on Final Grades</h2>\n",
    "<h3 align=\"center\">Name: Maha Jayapal</h3>\n",
    "<h4 align=\"center\">Date: 6/24/2024</h4>"
   ]
  },
  {
   "cell_type": "code",
   "execution_count": 1,
   "metadata": {
    "id": "4q8kWlTqiRgm"
   },
   "outputs": [],
   "source": [
    "#Importing libraries\n",
    "import pandas as pd\n",
    "import numpy as np\n",
    "import seaborn as sns\n",
    "import matplotlib.pyplot as plt\n",
    "import statsmodels.api as sm\n",
    "import statsmodels.formula.api as smf\n",
    "from sklearn import linear_model\n",
    "from scipy.stats import pearsonr\n",
    "from sklearn.linear_model import LinearRegression"
   ]
  },
  {
   "cell_type": "code",
   "execution_count": 2,
   "metadata": {
    "colab": {
     "base_uri": "https://localhost:8080/",
     "height": 255
    },
    "id": "QWsPASIzizMe",
    "outputId": "4cd86564-080b-417e-cd08-4511ca7704ce"
   },
   "outputs": [
    {
     "data": {
      "text/html": [
       "<div>\n",
       "<style scoped>\n",
       "    .dataframe tbody tr th:only-of-type {\n",
       "        vertical-align: middle;\n",
       "    }\n",
       "\n",
       "    .dataframe tbody tr th {\n",
       "        vertical-align: top;\n",
       "    }\n",
       "\n",
       "    .dataframe thead th {\n",
       "        text-align: right;\n",
       "    }\n",
       "</style>\n",
       "<table border=\"1\" class=\"dataframe\">\n",
       "  <thead>\n",
       "    <tr style=\"text-align: right;\">\n",
       "      <th></th>\n",
       "      <th>school</th>\n",
       "      <th>sex</th>\n",
       "      <th>age</th>\n",
       "      <th>address</th>\n",
       "      <th>famsize</th>\n",
       "      <th>Pstatus</th>\n",
       "      <th>Medu</th>\n",
       "      <th>Fedu</th>\n",
       "      <th>Mjob</th>\n",
       "      <th>Fjob</th>\n",
       "      <th>...</th>\n",
       "      <th>famrel</th>\n",
       "      <th>freetime</th>\n",
       "      <th>goout</th>\n",
       "      <th>Dalc</th>\n",
       "      <th>Walc</th>\n",
       "      <th>health</th>\n",
       "      <th>absences</th>\n",
       "      <th>G1</th>\n",
       "      <th>G2</th>\n",
       "      <th>G3</th>\n",
       "    </tr>\n",
       "  </thead>\n",
       "  <tbody>\n",
       "    <tr>\n",
       "      <th>0</th>\n",
       "      <td>GP</td>\n",
       "      <td>F</td>\n",
       "      <td>18</td>\n",
       "      <td>U</td>\n",
       "      <td>GT3</td>\n",
       "      <td>A</td>\n",
       "      <td>4</td>\n",
       "      <td>4</td>\n",
       "      <td>at_home</td>\n",
       "      <td>teacher</td>\n",
       "      <td>...</td>\n",
       "      <td>4</td>\n",
       "      <td>3</td>\n",
       "      <td>4</td>\n",
       "      <td>1</td>\n",
       "      <td>1</td>\n",
       "      <td>3</td>\n",
       "      <td>4</td>\n",
       "      <td>0</td>\n",
       "      <td>11</td>\n",
       "      <td>11</td>\n",
       "    </tr>\n",
       "    <tr>\n",
       "      <th>1</th>\n",
       "      <td>GP</td>\n",
       "      <td>F</td>\n",
       "      <td>17</td>\n",
       "      <td>U</td>\n",
       "      <td>GT3</td>\n",
       "      <td>T</td>\n",
       "      <td>1</td>\n",
       "      <td>1</td>\n",
       "      <td>at_home</td>\n",
       "      <td>other</td>\n",
       "      <td>...</td>\n",
       "      <td>5</td>\n",
       "      <td>3</td>\n",
       "      <td>3</td>\n",
       "      <td>1</td>\n",
       "      <td>1</td>\n",
       "      <td>3</td>\n",
       "      <td>2</td>\n",
       "      <td>9</td>\n",
       "      <td>11</td>\n",
       "      <td>11</td>\n",
       "    </tr>\n",
       "    <tr>\n",
       "      <th>2</th>\n",
       "      <td>GP</td>\n",
       "      <td>F</td>\n",
       "      <td>15</td>\n",
       "      <td>U</td>\n",
       "      <td>LE3</td>\n",
       "      <td>T</td>\n",
       "      <td>1</td>\n",
       "      <td>1</td>\n",
       "      <td>at_home</td>\n",
       "      <td>other</td>\n",
       "      <td>...</td>\n",
       "      <td>4</td>\n",
       "      <td>3</td>\n",
       "      <td>2</td>\n",
       "      <td>2</td>\n",
       "      <td>3</td>\n",
       "      <td>3</td>\n",
       "      <td>6</td>\n",
       "      <td>12</td>\n",
       "      <td>13</td>\n",
       "      <td>12</td>\n",
       "    </tr>\n",
       "    <tr>\n",
       "      <th>3</th>\n",
       "      <td>GP</td>\n",
       "      <td>F</td>\n",
       "      <td>15</td>\n",
       "      <td>U</td>\n",
       "      <td>GT3</td>\n",
       "      <td>T</td>\n",
       "      <td>4</td>\n",
       "      <td>2</td>\n",
       "      <td>health</td>\n",
       "      <td>services</td>\n",
       "      <td>...</td>\n",
       "      <td>3</td>\n",
       "      <td>2</td>\n",
       "      <td>2</td>\n",
       "      <td>1</td>\n",
       "      <td>1</td>\n",
       "      <td>5</td>\n",
       "      <td>0</td>\n",
       "      <td>14</td>\n",
       "      <td>14</td>\n",
       "      <td>14</td>\n",
       "    </tr>\n",
       "    <tr>\n",
       "      <th>4</th>\n",
       "      <td>GP</td>\n",
       "      <td>F</td>\n",
       "      <td>16</td>\n",
       "      <td>U</td>\n",
       "      <td>GT3</td>\n",
       "      <td>T</td>\n",
       "      <td>3</td>\n",
       "      <td>3</td>\n",
       "      <td>other</td>\n",
       "      <td>other</td>\n",
       "      <td>...</td>\n",
       "      <td>4</td>\n",
       "      <td>3</td>\n",
       "      <td>2</td>\n",
       "      <td>1</td>\n",
       "      <td>2</td>\n",
       "      <td>5</td>\n",
       "      <td>0</td>\n",
       "      <td>11</td>\n",
       "      <td>13</td>\n",
       "      <td>13</td>\n",
       "    </tr>\n",
       "  </tbody>\n",
       "</table>\n",
       "<p>5 rows × 33 columns</p>\n",
       "</div>"
      ],
      "text/plain": [
       "  school sex  age address famsize Pstatus  Medu  Fedu     Mjob      Fjob  ...  \\\n",
       "0     GP   F   18       U     GT3       A     4     4  at_home   teacher  ...   \n",
       "1     GP   F   17       U     GT3       T     1     1  at_home     other  ...   \n",
       "2     GP   F   15       U     LE3       T     1     1  at_home     other  ...   \n",
       "3     GP   F   15       U     GT3       T     4     2   health  services  ...   \n",
       "4     GP   F   16       U     GT3       T     3     3    other     other  ...   \n",
       "\n",
       "  famrel freetime  goout  Dalc  Walc health absences  G1  G2  G3  \n",
       "0      4        3      4     1     1      3        4   0  11  11  \n",
       "1      5        3      3     1     1      3        2   9  11  11  \n",
       "2      4        3      2     2     3      3        6  12  13  12  \n",
       "3      3        2      2     1     1      5        0  14  14  14  \n",
       "4      4        3      2     1     2      5        0  11  13  13  \n",
       "\n",
       "[5 rows x 33 columns]"
      ]
     },
     "execution_count": 2,
     "metadata": {},
     "output_type": "execute_result"
    }
   ],
   "source": [
    "file_path = '../dataset/student-por.csv'\n",
    "student_por = pd.read_csv(file_path,  delimiter=';')\n",
    "\n",
    "# Display the first few rows of the dataset\n",
    "student_por.head()"
   ]
  },
  {
   "cell_type": "code",
   "execution_count": 3,
   "metadata": {
    "colab": {
     "base_uri": "https://localhost:8080/",
     "height": 255
    },
    "id": "ShSGWGGtizI1",
    "outputId": "1c73f68d-c43a-4579-8a6b-a8926ee423f3"
   },
   "outputs": [
    {
     "data": {
      "text/html": [
       "<div>\n",
       "<style scoped>\n",
       "    .dataframe tbody tr th:only-of-type {\n",
       "        vertical-align: middle;\n",
       "    }\n",
       "\n",
       "    .dataframe tbody tr th {\n",
       "        vertical-align: top;\n",
       "    }\n",
       "\n",
       "    .dataframe thead th {\n",
       "        text-align: right;\n",
       "    }\n",
       "</style>\n",
       "<table border=\"1\" class=\"dataframe\">\n",
       "  <thead>\n",
       "    <tr style=\"text-align: right;\">\n",
       "      <th></th>\n",
       "      <th>school</th>\n",
       "      <th>sex</th>\n",
       "      <th>age</th>\n",
       "      <th>address</th>\n",
       "      <th>famsize</th>\n",
       "      <th>Pstatus</th>\n",
       "      <th>Medu</th>\n",
       "      <th>Fedu</th>\n",
       "      <th>Mjob</th>\n",
       "      <th>Fjob</th>\n",
       "      <th>...</th>\n",
       "      <th>famrel</th>\n",
       "      <th>freetime</th>\n",
       "      <th>goout</th>\n",
       "      <th>Dalc</th>\n",
       "      <th>Walc</th>\n",
       "      <th>health</th>\n",
       "      <th>absences</th>\n",
       "      <th>G1</th>\n",
       "      <th>G2</th>\n",
       "      <th>G3</th>\n",
       "    </tr>\n",
       "  </thead>\n",
       "  <tbody>\n",
       "    <tr>\n",
       "      <th>0</th>\n",
       "      <td>GP</td>\n",
       "      <td>F</td>\n",
       "      <td>18</td>\n",
       "      <td>U</td>\n",
       "      <td>GT3</td>\n",
       "      <td>A</td>\n",
       "      <td>4</td>\n",
       "      <td>4</td>\n",
       "      <td>at_home</td>\n",
       "      <td>teacher</td>\n",
       "      <td>...</td>\n",
       "      <td>4</td>\n",
       "      <td>3</td>\n",
       "      <td>4</td>\n",
       "      <td>1</td>\n",
       "      <td>1</td>\n",
       "      <td>3</td>\n",
       "      <td>6</td>\n",
       "      <td>5</td>\n",
       "      <td>6</td>\n",
       "      <td>6</td>\n",
       "    </tr>\n",
       "    <tr>\n",
       "      <th>1</th>\n",
       "      <td>GP</td>\n",
       "      <td>F</td>\n",
       "      <td>17</td>\n",
       "      <td>U</td>\n",
       "      <td>GT3</td>\n",
       "      <td>T</td>\n",
       "      <td>1</td>\n",
       "      <td>1</td>\n",
       "      <td>at_home</td>\n",
       "      <td>other</td>\n",
       "      <td>...</td>\n",
       "      <td>5</td>\n",
       "      <td>3</td>\n",
       "      <td>3</td>\n",
       "      <td>1</td>\n",
       "      <td>1</td>\n",
       "      <td>3</td>\n",
       "      <td>4</td>\n",
       "      <td>5</td>\n",
       "      <td>5</td>\n",
       "      <td>6</td>\n",
       "    </tr>\n",
       "    <tr>\n",
       "      <th>2</th>\n",
       "      <td>GP</td>\n",
       "      <td>F</td>\n",
       "      <td>15</td>\n",
       "      <td>U</td>\n",
       "      <td>LE3</td>\n",
       "      <td>T</td>\n",
       "      <td>1</td>\n",
       "      <td>1</td>\n",
       "      <td>at_home</td>\n",
       "      <td>other</td>\n",
       "      <td>...</td>\n",
       "      <td>4</td>\n",
       "      <td>3</td>\n",
       "      <td>2</td>\n",
       "      <td>2</td>\n",
       "      <td>3</td>\n",
       "      <td>3</td>\n",
       "      <td>10</td>\n",
       "      <td>7</td>\n",
       "      <td>8</td>\n",
       "      <td>10</td>\n",
       "    </tr>\n",
       "    <tr>\n",
       "      <th>3</th>\n",
       "      <td>GP</td>\n",
       "      <td>F</td>\n",
       "      <td>15</td>\n",
       "      <td>U</td>\n",
       "      <td>GT3</td>\n",
       "      <td>T</td>\n",
       "      <td>4</td>\n",
       "      <td>2</td>\n",
       "      <td>health</td>\n",
       "      <td>services</td>\n",
       "      <td>...</td>\n",
       "      <td>3</td>\n",
       "      <td>2</td>\n",
       "      <td>2</td>\n",
       "      <td>1</td>\n",
       "      <td>1</td>\n",
       "      <td>5</td>\n",
       "      <td>2</td>\n",
       "      <td>15</td>\n",
       "      <td>14</td>\n",
       "      <td>15</td>\n",
       "    </tr>\n",
       "    <tr>\n",
       "      <th>4</th>\n",
       "      <td>GP</td>\n",
       "      <td>F</td>\n",
       "      <td>16</td>\n",
       "      <td>U</td>\n",
       "      <td>GT3</td>\n",
       "      <td>T</td>\n",
       "      <td>3</td>\n",
       "      <td>3</td>\n",
       "      <td>other</td>\n",
       "      <td>other</td>\n",
       "      <td>...</td>\n",
       "      <td>4</td>\n",
       "      <td>3</td>\n",
       "      <td>2</td>\n",
       "      <td>1</td>\n",
       "      <td>2</td>\n",
       "      <td>5</td>\n",
       "      <td>4</td>\n",
       "      <td>6</td>\n",
       "      <td>10</td>\n",
       "      <td>10</td>\n",
       "    </tr>\n",
       "  </tbody>\n",
       "</table>\n",
       "<p>5 rows × 33 columns</p>\n",
       "</div>"
      ],
      "text/plain": [
       "  school sex  age address famsize Pstatus  Medu  Fedu     Mjob      Fjob  ...  \\\n",
       "0     GP   F   18       U     GT3       A     4     4  at_home   teacher  ...   \n",
       "1     GP   F   17       U     GT3       T     1     1  at_home     other  ...   \n",
       "2     GP   F   15       U     LE3       T     1     1  at_home     other  ...   \n",
       "3     GP   F   15       U     GT3       T     4     2   health  services  ...   \n",
       "4     GP   F   16       U     GT3       T     3     3    other     other  ...   \n",
       "\n",
       "  famrel freetime  goout  Dalc  Walc health absences  G1  G2  G3  \n",
       "0      4        3      4     1     1      3        6   5   6   6  \n",
       "1      5        3      3     1     1      3        4   5   5   6  \n",
       "2      4        3      2     2     3      3       10   7   8  10  \n",
       "3      3        2      2     1     1      5        2  15  14  15  \n",
       "4      4        3      2     1     2      5        4   6  10  10  \n",
       "\n",
       "[5 rows x 33 columns]"
      ]
     },
     "execution_count": 3,
     "metadata": {},
     "output_type": "execute_result"
    }
   ],
   "source": [
    "file_path = '../dataset/student-mat.csv'\n",
    "student_math = pd.read_csv(file_path,  delimiter=';')\n",
    "\n",
    "# Display the first few rows of the dataset\n",
    "student_math.head()"
   ]
  },
  {
   "cell_type": "code",
   "execution_count": 4,
   "metadata": {
    "colab": {
     "base_uri": "https://localhost:8080/"
    },
    "id": "OCSPyWaQizF6",
    "outputId": "546a5fd2-7ec3-4c1b-eab8-7d46c188dcb4"
   },
   "outputs": [
    {
     "name": "stdout",
     "output_type": "stream",
     "text": [
      "(395, 33)\n"
     ]
    },
    {
     "data": {
      "text/plain": [
       "(649, 33)"
      ]
     },
     "execution_count": 4,
     "metadata": {},
     "output_type": "execute_result"
    }
   ],
   "source": [
    "print(student_math.shape)\n",
    "student_por.shape"
   ]
  },
  {
   "cell_type": "markdown",
   "metadata": {
    "id": "PonrBE7M5k_Y"
   },
   "source": [
    "There are 395 observations in the Math dataset, and 649 observations in the portuguese dataset."
   ]
  },
  {
   "cell_type": "markdown",
   "metadata": {
    "id": "SHtmKe0WVDu1"
   },
   "source": [
    "**Features used to analyze the grade impact based on social life:**"
   ]
  },
  {
   "cell_type": "markdown",
   "metadata": {
    "id": "qvPu-oFgUeEf"
   },
   "source": [
    "internet:\tBinary,\t\tInternet access at home (binary: yes or no)\n",
    "\n",
    "romantic:\tBinary,\t\twith a romantic relationship (binary: yes or no)\n",
    "\n",
    "famrel:\tInteger, \tquality of family relationships (numeric: from 1 - very bad to 5 - excellent)\n",
    "\n",
    "freetime:\tInteger, \tfree time after school (numeric: from 1 - very low to 5 - very high)\n",
    "\n",
    "goout: Integer,\t\tgoing out with friends (numeric: from 1 - very low to 5 - very high)\n",
    "\n",
    "absences:\tInteger,\t\tnumber of school absences (numeric: from 0 to 93)"
   ]
  },
  {
   "cell_type": "code",
   "execution_count": 5,
   "metadata": {
    "id": "ZQUkijK_izDL"
   },
   "outputs": [],
   "source": [
    "selected_columns = ['internet' ,'romantic', 'famrel' , 'freetime' , 'goout' ,'absences']\n",
    "\n",
    "subset_stu_por = student_por[selected_columns]\n",
    "subset_stu_math = student_math[selected_columns]"
   ]
  },
  {
   "cell_type": "code",
   "execution_count": 6,
   "metadata": {
    "colab": {
     "base_uri": "https://localhost:8080/",
     "height": 398
    },
    "id": "_5eFb2rKizAX",
    "outputId": "69dc154d-55bb-4496-e286-528037bb0069"
   },
   "outputs": [
    {
     "data": {
      "image/png": "[encoded data removed]",
      "text/plain": [
       "<Figure size 1080x360 with 6 Axes>"
      ]
     },
     "metadata": {
      "needs_background": "light"
     },
     "output_type": "display_data"
    }
   ],
   "source": [
    "def draw_barplots(df, num_columns):\n",
    "    # Get the specified number of columns\n",
    "    columns = df.columns[:num_columns]\n",
    "\n",
    "    # Create subplots with the specified number of columns\n",
    "    fig, axes = plt.subplots(1, num_columns, figsize=(15, 5))\n",
    "\n",
    "    # Iterate through the columns and draw bar plots\n",
    "    for i, col in enumerate(columns):\n",
    "        ax = axes[i] if num_columns > 1 else axes\n",
    "        value_counts = df[col].value_counts()\n",
    "        ax.bar(value_counts.index, value_counts.values)\n",
    "        ax.set_title(col)\n",
    "        ax.set_xlabel(col)\n",
    "        ax.set_ylabel('Counts')\n",
    "\n",
    "    plt.tight_layout()\n",
    "    plt.show()\n",
    "\n",
    "\n",
    "draw_barplots(subset_stu_por, 6)\n"
   ]
  },
  {
   "cell_type": "code",
   "execution_count": 7,
   "metadata": {
    "colab": {
     "base_uri": "https://localhost:8080/",
     "height": 398
    },
    "id": "xRBKM_Ggiy9X",
    "outputId": "09264c9a-91c1-488f-8b0e-d8d90af46fab"
   },
   "outputs": [
    {
     "data": {
      "image/png": "[encoded data removed]",
      "text/plain": [
       "<Figure size 1080x360 with 6 Axes>"
      ]
     },
     "metadata": {
      "needs_background": "light"
     },
     "output_type": "display_data"
    }
   ],
   "source": [
    "draw_barplots(subset_stu_math, 6)"
   ]
  },
  {
   "cell_type": "markdown",
   "metadata": {
    "id": "89mJ9Neo510E"
   },
   "source": [
    "The bar plots for the selected features revealed several insights. For both the datasets, more number of students have internet access at home, fewer students were in romantic relationships, and family relationships were left-skewed, indicating mostly positive family dynamics. Free time and going out showed roughly normal distributions, while absences were heavily right-skewed with mostly low values and few high values."
   ]
  },
  {
   "cell_type": "code",
   "execution_count": 8,
   "metadata": {
    "colab": {
     "base_uri": "https://localhost:8080/"
    },
    "id": "z3AdzOPkY03R",
    "outputId": "0098080d-de27-41e1-ff02-ec6919389da0"
   },
   "outputs": [
    {
     "name": "stdout",
     "output_type": "stream",
     "text": [
      "internet    object\n",
      "romantic    object\n",
      "famrel       int64\n",
      "freetime     int64\n",
      "goout        int64\n",
      "absences     int64\n",
      "dtype: object\n",
      "internet    object\n",
      "romantic    object\n",
      "famrel       int64\n",
      "freetime     int64\n",
      "goout        int64\n",
      "absences     int64\n",
      "dtype: object\n"
     ]
    }
   ],
   "source": [
    "print(student_math[selected_columns].dtypes)\n",
    "print(student_por[selected_columns].dtypes)"
   ]
  },
  {
   "cell_type": "markdown",
   "metadata": {
    "id": "P45aK1dl59ve"
   },
   "source": [
    "The feature"
   ]
  },
  {
   "cell_type": "code",
   "execution_count": 9,
   "metadata": {
    "colab": {
     "base_uri": "https://localhost:8080/",
     "height": 206
    },
    "id": "klgrY0cYfDYS",
    "outputId": "c1c5cdec-d03d-4509-a3c9-88d0cdc986aa"
   },
   "outputs": [
    {
     "data": {
      "text/html": [
       "<div>\n",
       "<style scoped>\n",
       "    .dataframe tbody tr th:only-of-type {\n",
       "        vertical-align: middle;\n",
       "    }\n",
       "\n",
       "    .dataframe tbody tr th {\n",
       "        vertical-align: top;\n",
       "    }\n",
       "\n",
       "    .dataframe thead th {\n",
       "        text-align: right;\n",
       "    }\n",
       "</style>\n",
       "<table border=\"1\" class=\"dataframe\">\n",
       "  <thead>\n",
       "    <tr style=\"text-align: right;\">\n",
       "      <th></th>\n",
       "      <th>internet</th>\n",
       "      <th>romantic</th>\n",
       "      <th>famrel</th>\n",
       "      <th>freetime</th>\n",
       "      <th>goout</th>\n",
       "      <th>absences</th>\n",
       "    </tr>\n",
       "  </thead>\n",
       "  <tbody>\n",
       "    <tr>\n",
       "      <th>0</th>\n",
       "      <td>no</td>\n",
       "      <td>no</td>\n",
       "      <td>4</td>\n",
       "      <td>3</td>\n",
       "      <td>4</td>\n",
       "      <td>6</td>\n",
       "    </tr>\n",
       "    <tr>\n",
       "      <th>1</th>\n",
       "      <td>yes</td>\n",
       "      <td>no</td>\n",
       "      <td>5</td>\n",
       "      <td>3</td>\n",
       "      <td>3</td>\n",
       "      <td>4</td>\n",
       "    </tr>\n",
       "    <tr>\n",
       "      <th>2</th>\n",
       "      <td>yes</td>\n",
       "      <td>no</td>\n",
       "      <td>4</td>\n",
       "      <td>3</td>\n",
       "      <td>2</td>\n",
       "      <td>10</td>\n",
       "    </tr>\n",
       "    <tr>\n",
       "      <th>3</th>\n",
       "      <td>yes</td>\n",
       "      <td>yes</td>\n",
       "      <td>3</td>\n",
       "      <td>2</td>\n",
       "      <td>2</td>\n",
       "      <td>2</td>\n",
       "    </tr>\n",
       "    <tr>\n",
       "      <th>4</th>\n",
       "      <td>no</td>\n",
       "      <td>no</td>\n",
       "      <td>4</td>\n",
       "      <td>3</td>\n",
       "      <td>2</td>\n",
       "      <td>4</td>\n",
       "    </tr>\n",
       "  </tbody>\n",
       "</table>\n",
       "</div>"
      ],
      "text/plain": [
       "  internet romantic  famrel  freetime  goout  absences\n",
       "0       no       no       4         3      4         6\n",
       "1      yes       no       5         3      3         4\n",
       "2      yes       no       4         3      2        10\n",
       "3      yes      yes       3         2      2         2\n",
       "4       no       no       4         3      2         4"
      ]
     },
     "execution_count": 9,
     "metadata": {},
     "output_type": "execute_result"
    }
   ],
   "source": [
    "X_math = student_math[selected_columns]\n",
    "X_math.head(5)"
   ]
  },
  {
   "cell_type": "markdown",
   "metadata": {
    "id": "09hbwZueynaV"
   },
   "source": [
    "Among the six independent features selected, internet and romantic are binary, famrel which is the quality of family relationships, freetime which is the free time after school, goout is going out with friends which are all ordinal numeric variables ranging from 1 which is very bad or low to 5 which is excellent or very high. The variable absences is a numeric variable ranging from 0 to 93 which is the number of school absences.\n"
   ]
  },
  {
   "cell_type": "code",
   "execution_count": 25,
   "metadata": {
    "id": "N45j1Q3KgP_m"
   },
   "outputs": [],
   "source": [
    "# Create a dictionary mapping 'yes' to 1 and 'no' to 0\n",
    "mapping = {'yes': 1, 'no': 0}\n",
    "\n",
    "# Replace values in the 'answer' column using the dictionary\n",
    "student_math['internet'] = student_math['internet'].replace(mapping)\n",
    "student_math['romantic'] = student_math['romantic'].replace(mapping)\n",
    "\n",
    "student_por['internet'] = student_por['internet'].replace(mapping)\n",
    "student_por['romantic'] = student_por['romantic'].replace(mapping)"
   ]
  },
  {
   "cell_type": "markdown",
   "metadata": {
    "id": "rV7080rcywMR"
   },
   "source": [
    "The target variable G3 is an integer. Independent variables famrel, freetime, goout, and absences were numeric, while internet and romantic were categorical with yes and no. These were converted to 1 and 0 for modeling.\n",
    "\n"
   ]
  },
  {
   "cell_type": "code",
   "execution_count": 11,
   "metadata": {
    "colab": {
     "base_uri": "https://localhost:8080/",
     "height": 206
    },
    "id": "7gOl9aXWgb98",
    "outputId": "b118d187-1cc1-4bad-9562-b103a4c4f4be"
   },
   "outputs": [
    {
     "data": {
      "text/html": [
       "<div>\n",
       "<style scoped>\n",
       "    .dataframe tbody tr th:only-of-type {\n",
       "        vertical-align: middle;\n",
       "    }\n",
       "\n",
       "    .dataframe tbody tr th {\n",
       "        vertical-align: top;\n",
       "    }\n",
       "\n",
       "    .dataframe thead th {\n",
       "        text-align: right;\n",
       "    }\n",
       "</style>\n",
       "<table border=\"1\" class=\"dataframe\">\n",
       "  <thead>\n",
       "    <tr style=\"text-align: right;\">\n",
       "      <th></th>\n",
       "      <th>internet</th>\n",
       "      <th>romantic</th>\n",
       "      <th>famrel</th>\n",
       "      <th>freetime</th>\n",
       "      <th>goout</th>\n",
       "      <th>absences</th>\n",
       "    </tr>\n",
       "  </thead>\n",
       "  <tbody>\n",
       "    <tr>\n",
       "      <th>0</th>\n",
       "      <td>0</td>\n",
       "      <td>0</td>\n",
       "      <td>4</td>\n",
       "      <td>3</td>\n",
       "      <td>4</td>\n",
       "      <td>6</td>\n",
       "    </tr>\n",
       "    <tr>\n",
       "      <th>1</th>\n",
       "      <td>1</td>\n",
       "      <td>0</td>\n",
       "      <td>5</td>\n",
       "      <td>3</td>\n",
       "      <td>3</td>\n",
       "      <td>4</td>\n",
       "    </tr>\n",
       "    <tr>\n",
       "      <th>2</th>\n",
       "      <td>1</td>\n",
       "      <td>0</td>\n",
       "      <td>4</td>\n",
       "      <td>3</td>\n",
       "      <td>2</td>\n",
       "      <td>10</td>\n",
       "    </tr>\n",
       "    <tr>\n",
       "      <th>3</th>\n",
       "      <td>1</td>\n",
       "      <td>1</td>\n",
       "      <td>3</td>\n",
       "      <td>2</td>\n",
       "      <td>2</td>\n",
       "      <td>2</td>\n",
       "    </tr>\n",
       "    <tr>\n",
       "      <th>4</th>\n",
       "      <td>0</td>\n",
       "      <td>0</td>\n",
       "      <td>4</td>\n",
       "      <td>3</td>\n",
       "      <td>2</td>\n",
       "      <td>4</td>\n",
       "    </tr>\n",
       "  </tbody>\n",
       "</table>\n",
       "</div>"
      ],
      "text/plain": [
       "   internet  romantic  famrel  freetime  goout  absences\n",
       "0         0         0       4         3      4         6\n",
       "1         1         0       5         3      3         4\n",
       "2         1         0       4         3      2        10\n",
       "3         1         1       3         2      2         2\n",
       "4         0         0       4         3      2         4"
      ]
     },
     "execution_count": 11,
     "metadata": {},
     "output_type": "execute_result"
    }
   ],
   "source": [
    "X_math = student_math[selected_columns]\n",
    "X_math.head(5)"
   ]
  },
  {
   "cell_type": "code",
   "execution_count": 12,
   "metadata": {
    "colab": {
     "base_uri": "https://localhost:8080/"
    },
    "id": "mC9PksbZaodQ",
    "outputId": "1109b772-ec37-42c6-8f65-78e8f50af9ff"
   },
   "outputs": [
    {
     "data": {
      "text/plain": [
       "internet    int64\n",
       "romantic    int64\n",
       "famrel      int64\n",
       "freetime    int64\n",
       "goout       int64\n",
       "absences    int64\n",
       "dtype: object"
      ]
     },
     "execution_count": 12,
     "metadata": {},
     "output_type": "execute_result"
    }
   ],
   "source": [
    "X_math.dtypes"
   ]
  },
  {
   "cell_type": "code",
   "execution_count": 13,
   "metadata": {
    "colab": {
     "base_uri": "https://localhost:8080/",
     "height": 237
    },
    "id": "9wQB0Us6rBX5",
    "outputId": "216fea1d-3889-48e1-c834-6255c058f317"
   },
   "outputs": [
    {
     "data": {
      "text/html": [
       "<div>\n",
       "<style scoped>\n",
       "    .dataframe tbody tr th:only-of-type {\n",
       "        vertical-align: middle;\n",
       "    }\n",
       "\n",
       "    .dataframe tbody tr th {\n",
       "        vertical-align: top;\n",
       "    }\n",
       "\n",
       "    .dataframe thead th {\n",
       "        text-align: right;\n",
       "    }\n",
       "</style>\n",
       "<table border=\"1\" class=\"dataframe\">\n",
       "  <thead>\n",
       "    <tr style=\"text-align: right;\">\n",
       "      <th></th>\n",
       "      <th>internet</th>\n",
       "      <th>romantic</th>\n",
       "      <th>famrel</th>\n",
       "      <th>freetime</th>\n",
       "      <th>goout</th>\n",
       "      <th>absences</th>\n",
       "    </tr>\n",
       "  </thead>\n",
       "  <tbody>\n",
       "    <tr>\n",
       "      <th>internet</th>\n",
       "      <td>1.000000</td>\n",
       "      <td>0.087122</td>\n",
       "      <td>0.032768</td>\n",
       "      <td>0.051286</td>\n",
       "      <td>0.074370</td>\n",
       "      <td>0.101701</td>\n",
       "    </tr>\n",
       "    <tr>\n",
       "      <th>romantic</th>\n",
       "      <td>0.087122</td>\n",
       "      <td>1.000000</td>\n",
       "      <td>-0.063816</td>\n",
       "      <td>-0.011182</td>\n",
       "      <td>0.007870</td>\n",
       "      <td>0.153384</td>\n",
       "    </tr>\n",
       "    <tr>\n",
       "      <th>famrel</th>\n",
       "      <td>0.032768</td>\n",
       "      <td>-0.063816</td>\n",
       "      <td>1.000000</td>\n",
       "      <td>0.150701</td>\n",
       "      <td>0.064568</td>\n",
       "      <td>-0.044354</td>\n",
       "    </tr>\n",
       "    <tr>\n",
       "      <th>freetime</th>\n",
       "      <td>0.051286</td>\n",
       "      <td>-0.011182</td>\n",
       "      <td>0.150701</td>\n",
       "      <td>1.000000</td>\n",
       "      <td>0.285019</td>\n",
       "      <td>-0.058078</td>\n",
       "    </tr>\n",
       "    <tr>\n",
       "      <th>goout</th>\n",
       "      <td>0.074370</td>\n",
       "      <td>0.007870</td>\n",
       "      <td>0.064568</td>\n",
       "      <td>0.285019</td>\n",
       "      <td>1.000000</td>\n",
       "      <td>0.044302</td>\n",
       "    </tr>\n",
       "    <tr>\n",
       "      <th>absences</th>\n",
       "      <td>0.101701</td>\n",
       "      <td>0.153384</td>\n",
       "      <td>-0.044354</td>\n",
       "      <td>-0.058078</td>\n",
       "      <td>0.044302</td>\n",
       "      <td>1.000000</td>\n",
       "    </tr>\n",
       "  </tbody>\n",
       "</table>\n",
       "</div>"
      ],
      "text/plain": [
       "          internet  romantic    famrel  freetime     goout  absences\n",
       "internet  1.000000  0.087122  0.032768  0.051286  0.074370  0.101701\n",
       "romantic  0.087122  1.000000 -0.063816 -0.011182  0.007870  0.153384\n",
       "famrel    0.032768 -0.063816  1.000000  0.150701  0.064568 -0.044354\n",
       "freetime  0.051286 -0.011182  0.150701  1.000000  0.285019 -0.058078\n",
       "goout     0.074370  0.007870  0.064568  0.285019  1.000000  0.044302\n",
       "absences  0.101701  0.153384 -0.044354 -0.058078  0.044302  1.000000"
      ]
     },
     "execution_count": 13,
     "metadata": {},
     "output_type": "execute_result"
    }
   ],
   "source": [
    "correlation_matrix = X_math.corr()\n",
    "correlation_matrix"
   ]
  },
  {
   "cell_type": "markdown",
   "metadata": {
    "id": "UBmZ4NRps2NZ"
   },
   "source": [
    "The correlation matrix shows that the features selected does not have multicollinearity."
   ]
  },
  {
   "cell_type": "code",
   "execution_count": 14,
   "metadata": {
    "colab": {
     "base_uri": "https://localhost:8080/",
     "height": 391
    },
    "id": "1HVZcQXaImFP",
    "outputId": "ca46416d-8378-4603-86a3-e5f28713ed73"
   },
   "outputs": [
    {
     "data": {
      "image/png": "[encoded data removed]",
      "text/plain": [
       "<Figure size 432x288 with 2 Axes>"
      ]
     },
     "metadata": {
      "needs_background": "light"
     },
     "output_type": "display_data"
    }
   ],
   "source": [
    "# Create the heat map\n",
    "plt.figure(figsize=(6, 4))\n",
    "sns.heatmap(correlation_matrix, annot=True, cmap='coolwarm', vmin=-1, vmax=1)\n",
    "\n",
    "# Add a title\n",
    "plt.title('Math Dataset Heatmap')\n",
    "\n",
    "# Display the heat map\n",
    "plt.show()"
   ]
  },
  {
   "cell_type": "code",
   "execution_count": 15,
   "metadata": {
    "colab": {
     "base_uri": "https://localhost:8080/",
     "height": 206
    },
    "id": "ChENAekYsPFg",
    "outputId": "ac520967-0fe9-4527-9913-01da5a60d8a3"
   },
   "outputs": [
    {
     "data": {
      "text/html": [
       "<div>\n",
       "<style scoped>\n",
       "    .dataframe tbody tr th:only-of-type {\n",
       "        vertical-align: middle;\n",
       "    }\n",
       "\n",
       "    .dataframe tbody tr th {\n",
       "        vertical-align: top;\n",
       "    }\n",
       "\n",
       "    .dataframe thead th {\n",
       "        text-align: right;\n",
       "    }\n",
       "</style>\n",
       "<table border=\"1\" class=\"dataframe\">\n",
       "  <thead>\n",
       "    <tr style=\"text-align: right;\">\n",
       "      <th></th>\n",
       "      <th>internet</th>\n",
       "      <th>romantic</th>\n",
       "      <th>famrel</th>\n",
       "      <th>freetime</th>\n",
       "      <th>goout</th>\n",
       "      <th>absences</th>\n",
       "    </tr>\n",
       "  </thead>\n",
       "  <tbody>\n",
       "    <tr>\n",
       "      <th>0</th>\n",
       "      <td>0</td>\n",
       "      <td>0</td>\n",
       "      <td>4</td>\n",
       "      <td>3</td>\n",
       "      <td>4</td>\n",
       "      <td>4</td>\n",
       "    </tr>\n",
       "    <tr>\n",
       "      <th>1</th>\n",
       "      <td>1</td>\n",
       "      <td>0</td>\n",
       "      <td>5</td>\n",
       "      <td>3</td>\n",
       "      <td>3</td>\n",
       "      <td>2</td>\n",
       "    </tr>\n",
       "    <tr>\n",
       "      <th>2</th>\n",
       "      <td>1</td>\n",
       "      <td>0</td>\n",
       "      <td>4</td>\n",
       "      <td>3</td>\n",
       "      <td>2</td>\n",
       "      <td>6</td>\n",
       "    </tr>\n",
       "    <tr>\n",
       "      <th>3</th>\n",
       "      <td>1</td>\n",
       "      <td>1</td>\n",
       "      <td>3</td>\n",
       "      <td>2</td>\n",
       "      <td>2</td>\n",
       "      <td>0</td>\n",
       "    </tr>\n",
       "    <tr>\n",
       "      <th>4</th>\n",
       "      <td>0</td>\n",
       "      <td>0</td>\n",
       "      <td>4</td>\n",
       "      <td>3</td>\n",
       "      <td>2</td>\n",
       "      <td>0</td>\n",
       "    </tr>\n",
       "  </tbody>\n",
       "</table>\n",
       "</div>"
      ],
      "text/plain": [
       "   internet  romantic  famrel  freetime  goout  absences\n",
       "0         0         0       4         3      4         4\n",
       "1         1         0       5         3      3         2\n",
       "2         1         0       4         3      2         6\n",
       "3         1         1       3         2      2         0\n",
       "4         0         0       4         3      2         0"
      ]
     },
     "execution_count": 15,
     "metadata": {},
     "output_type": "execute_result"
    }
   ],
   "source": [
    "X_por = student_por[selected_columns]\n",
    "X_por.head(5)"
   ]
  },
  {
   "cell_type": "code",
   "execution_count": 16,
   "metadata": {
    "colab": {
     "base_uri": "https://localhost:8080/",
     "height": 237
    },
    "id": "3NWWEV6RsXv7",
    "outputId": "ec64b312-5a95-4108-bfd8-5a28d86c7264"
   },
   "outputs": [
    {
     "data": {
      "text/html": [
       "<div>\n",
       "<style scoped>\n",
       "    .dataframe tbody tr th:only-of-type {\n",
       "        vertical-align: middle;\n",
       "    }\n",
       "\n",
       "    .dataframe tbody tr th {\n",
       "        vertical-align: top;\n",
       "    }\n",
       "\n",
       "    .dataframe thead th {\n",
       "        text-align: right;\n",
       "    }\n",
       "</style>\n",
       "<table border=\"1\" class=\"dataframe\">\n",
       "  <thead>\n",
       "    <tr style=\"text-align: right;\">\n",
       "      <th></th>\n",
       "      <th>internet</th>\n",
       "      <th>romantic</th>\n",
       "      <th>famrel</th>\n",
       "      <th>freetime</th>\n",
       "      <th>goout</th>\n",
       "      <th>absences</th>\n",
       "    </tr>\n",
       "  </thead>\n",
       "  <tbody>\n",
       "    <tr>\n",
       "      <th>internet</th>\n",
       "      <td>1.000000</td>\n",
       "      <td>0.034832</td>\n",
       "      <td>0.082214</td>\n",
       "      <td>0.063268</td>\n",
       "      <td>0.092869</td>\n",
       "      <td>0.067301</td>\n",
       "    </tr>\n",
       "    <tr>\n",
       "      <th>romantic</th>\n",
       "      <td>0.034832</td>\n",
       "      <td>1.000000</td>\n",
       "      <td>-0.044920</td>\n",
       "      <td>0.027112</td>\n",
       "      <td>-0.000520</td>\n",
       "      <td>0.079489</td>\n",
       "    </tr>\n",
       "    <tr>\n",
       "      <th>famrel</th>\n",
       "      <td>0.082214</td>\n",
       "      <td>-0.044920</td>\n",
       "      <td>1.000000</td>\n",
       "      <td>0.129216</td>\n",
       "      <td>0.089707</td>\n",
       "      <td>-0.089534</td>\n",
       "    </tr>\n",
       "    <tr>\n",
       "      <th>freetime</th>\n",
       "      <td>0.063268</td>\n",
       "      <td>0.027112</td>\n",
       "      <td>0.129216</td>\n",
       "      <td>1.000000</td>\n",
       "      <td>0.346352</td>\n",
       "      <td>-0.018716</td>\n",
       "    </tr>\n",
       "    <tr>\n",
       "      <th>goout</th>\n",
       "      <td>0.092869</td>\n",
       "      <td>-0.000520</td>\n",
       "      <td>0.089707</td>\n",
       "      <td>0.346352</td>\n",
       "      <td>1.000000</td>\n",
       "      <td>0.085374</td>\n",
       "    </tr>\n",
       "    <tr>\n",
       "      <th>absences</th>\n",
       "      <td>0.067301</td>\n",
       "      <td>0.079489</td>\n",
       "      <td>-0.089534</td>\n",
       "      <td>-0.018716</td>\n",
       "      <td>0.085374</td>\n",
       "      <td>1.000000</td>\n",
       "    </tr>\n",
       "  </tbody>\n",
       "</table>\n",
       "</div>"
      ],
      "text/plain": [
       "          internet  romantic    famrel  freetime     goout  absences\n",
       "internet  1.000000  0.034832  0.082214  0.063268  0.092869  0.067301\n",
       "romantic  0.034832  1.000000 -0.044920  0.027112 -0.000520  0.079489\n",
       "famrel    0.082214 -0.044920  1.000000  0.129216  0.089707 -0.089534\n",
       "freetime  0.063268  0.027112  0.129216  1.000000  0.346352 -0.018716\n",
       "goout     0.092869 -0.000520  0.089707  0.346352  1.000000  0.085374\n",
       "absences  0.067301  0.079489 -0.089534 -0.018716  0.085374  1.000000"
      ]
     },
     "execution_count": 16,
     "metadata": {},
     "output_type": "execute_result"
    }
   ],
   "source": [
    "correlation_matrix = X_por.corr()\n",
    "correlation_matrix"
   ]
  },
  {
   "cell_type": "markdown",
   "metadata": {
    "id": "VB2WNclutIGn"
   },
   "source": [
    "The correlation matrix shows that the features selected does not have multicollinearity."
   ]
  },
  {
   "cell_type": "code",
   "execution_count": 17,
   "metadata": {
    "colab": {
     "base_uri": "https://localhost:8080/",
     "height": 391
    },
    "id": "Y85aHuzZTqXT",
    "outputId": "62e81c95-6da7-4046-b5a8-3f51eac83644"
   },
   "outputs": [
    {
     "data": {
      "image/png": "[encoded data removed]",
      "text/plain": [
       "<Figure size 432x288 with 2 Axes>"
      ]
     },
     "metadata": {
      "needs_background": "light"
     },
     "output_type": "display_data"
    }
   ],
   "source": [
    "# Create the heat map\n",
    "plt.figure(figsize=(6, 4))\n",
    "sns.heatmap(correlation_matrix, annot=True, cmap='coolwarm', vmin=-1, vmax=1)\n",
    "\n",
    "# Add a title\n",
    "plt.title('Portuguese Dataset Heatmap')\n",
    "\n",
    "# Display the heat map\n",
    "plt.show()"
   ]
  },
  {
   "cell_type": "code",
   "execution_count": 18,
   "metadata": {
    "colab": {
     "base_uri": "https://localhost:8080/",
     "height": 558
    },
    "id": "Uoo02AEKiy6h",
    "outputId": "09077236-caa6-4220-f2f3-1faacc282aad"
   },
   "outputs": [
    {
     "data": {
      "text/html": [
       "<table class=\"simpletable\">\n",
       "<caption>OLS Regression Results</caption>\n",
       "<tr>\n",
       "  <th>Dep. Variable:</th>           <td>G3</td>        <th>  R-squared:         </th> <td>   0.056</td>\n",
       "</tr>\n",
       "<tr>\n",
       "  <th>Model:</th>                   <td>OLS</td>       <th>  Adj. R-squared:    </th> <td>   0.041</td>\n",
       "</tr>\n",
       "<tr>\n",
       "  <th>Method:</th>             <td>Least Squares</td>  <th>  F-statistic:       </th> <td>   3.809</td>\n",
       "</tr>\n",
       "<tr>\n",
       "  <th>Date:</th>             <td>Mon, 24 Jun 2024</td> <th>  Prob (F-statistic):</th>  <td>0.00106</td>\n",
       "</tr>\n",
       "<tr>\n",
       "  <th>Time:</th>                 <td>17:19:06</td>     <th>  Log-Likelihood:    </th> <td> -1149.9</td>\n",
       "</tr>\n",
       "<tr>\n",
       "  <th>No. Observations:</th>      <td>   395</td>      <th>  AIC:               </th> <td>   2314.</td>\n",
       "</tr>\n",
       "<tr>\n",
       "  <th>Df Residuals:</th>          <td>   388</td>      <th>  BIC:               </th> <td>   2342.</td>\n",
       "</tr>\n",
       "<tr>\n",
       "  <th>Df Model:</th>              <td>     6</td>      <th>                     </th>     <td> </td>   \n",
       "</tr>\n",
       "<tr>\n",
       "  <th>Covariance Type:</th>      <td>nonrobust</td>    <th>                     </th>     <td> </td>   \n",
       "</tr>\n",
       "</table>\n",
       "<table class=\"simpletable\">\n",
       "<tr>\n",
       "      <td></td>        <th>coef</th>     <th>std err</th>      <th>t</th>      <th>P>|t|</th>  <th>[0.025</th>    <th>0.975]</th>  \n",
       "</tr>\n",
       "<tr>\n",
       "  <th>const</th>    <td>    9.9966</td> <td>    1.339</td> <td>    7.466</td> <td> 0.000</td> <td>    7.364</td> <td>   12.629</td>\n",
       "</tr>\n",
       "<tr>\n",
       "  <th>internet</th> <td>    1.3893</td> <td>    0.612</td> <td>    2.269</td> <td> 0.024</td> <td>    0.186</td> <td>    2.593</td>\n",
       "</tr>\n",
       "<tr>\n",
       "  <th>romantic</th> <td>   -1.3960</td> <td>    0.486</td> <td>   -2.870</td> <td> 0.004</td> <td>   -2.352</td> <td>   -0.439</td>\n",
       "</tr>\n",
       "<tr>\n",
       "  <th>famrel</th>   <td>    0.2265</td> <td>    0.256</td> <td>    0.885</td> <td> 0.377</td> <td>   -0.276</td> <td>    0.729</td>\n",
       "</tr>\n",
       "<tr>\n",
       "  <th>freetime</th> <td>    0.2094</td> <td>    0.239</td> <td>    0.876</td> <td> 0.382</td> <td>   -0.261</td> <td>    0.679</td>\n",
       "</tr>\n",
       "<tr>\n",
       "  <th>goout</th>    <td>   -0.6521</td> <td>    0.213</td> <td>   -3.067</td> <td> 0.002</td> <td>   -1.070</td> <td>   -0.234</td>\n",
       "</tr>\n",
       "<tr>\n",
       "  <th>absences</th> <td>    0.0323</td> <td>    0.029</td> <td>    1.121</td> <td> 0.263</td> <td>   -0.024</td> <td>    0.089</td>\n",
       "</tr>\n",
       "</table>\n",
       "<table class=\"simpletable\">\n",
       "<tr>\n",
       "  <th>Omnibus:</th>       <td>26.878</td> <th>  Durbin-Watson:     </th> <td>   2.050</td>\n",
       "</tr>\n",
       "<tr>\n",
       "  <th>Prob(Omnibus):</th> <td> 0.000</td> <th>  Jarque-Bera (JB):  </th> <td>  30.518</td>\n",
       "</tr>\n",
       "<tr>\n",
       "  <th>Skew:</th>          <td>-0.671</td> <th>  Prob(JB):          </th> <td>2.36e-07</td>\n",
       "</tr>\n",
       "<tr>\n",
       "  <th>Kurtosis:</th>      <td> 3.236</td> <th>  Cond. No.          </th> <td>    64.4</td>\n",
       "</tr>\n",
       "</table><br/><br/>Notes:<br/>[1] Standard Errors assume that the covariance matrix of the errors is correctly specified."
      ],
      "text/plain": [
       "<class 'statsmodels.iolib.summary.Summary'>\n",
       "\"\"\"\n",
       "                            OLS Regression Results                            \n",
       "==============================================================================\n",
       "Dep. Variable:                     G3   R-squared:                       0.056\n",
       "Model:                            OLS   Adj. R-squared:                  0.041\n",
       "Method:                 Least Squares   F-statistic:                     3.809\n",
       "Date:                Mon, 24 Jun 2024   Prob (F-statistic):            0.00106\n",
       "Time:                        17:19:06   Log-Likelihood:                -1149.9\n",
       "No. Observations:                 395   AIC:                             2314.\n",
       "Df Residuals:                     388   BIC:                             2342.\n",
       "Df Model:                           6                                         \n",
       "Covariance Type:            nonrobust                                         \n",
       "==============================================================================\n",
       "                 coef    std err          t      P>|t|      [0.025      0.975]\n",
       "------------------------------------------------------------------------------\n",
       "const          9.9966      1.339      7.466      0.000       7.364      12.629\n",
       "internet       1.3893      0.612      2.269      0.024       0.186       2.593\n",
       "romantic      -1.3960      0.486     -2.870      0.004      -2.352      -0.439\n",
       "famrel         0.2265      0.256      0.885      0.377      -0.276       0.729\n",
       "freetime       0.2094      0.239      0.876      0.382      -0.261       0.679\n",
       "goout         -0.6521      0.213     -3.067      0.002      -1.070      -0.234\n",
       "absences       0.0323      0.029      1.121      0.263      -0.024       0.089\n",
       "==============================================================================\n",
       "Omnibus:                       26.878   Durbin-Watson:                   2.050\n",
       "Prob(Omnibus):                  0.000   Jarque-Bera (JB):               30.518\n",
       "Skew:                          -0.671   Prob(JB):                     2.36e-07\n",
       "Kurtosis:                       3.236   Cond. No.                         64.4\n",
       "==============================================================================\n",
       "\n",
       "Notes:\n",
       "[1] Standard Errors assume that the covariance matrix of the errors is correctly specified.\n",
       "\"\"\""
      ]
     },
     "execution_count": 18,
     "metadata": {},
     "output_type": "execute_result"
    }
   ],
   "source": [
    "X_math = student_math[selected_columns]\n",
    "y_math = student_math[\"G3\"]\n",
    "\n",
    "X_math = sm.add_constant(X_math)\n",
    "\n",
    "model = sm.OLS(y_math, X_math)\n",
    "results = model.fit()\n",
    "\n",
    "params = results.params\n",
    "params\n",
    "results.summary()"
   ]
  },
  {
   "cell_type": "markdown",
   "metadata": {
    "id": "HWLPC8gGjAvU"
   },
   "source": [
    "The R squared value of 0.056 indicates that approximately 5.6% of the variance in the dependent variable can be explained by the independent variables included in your model. A low R-squared value like 0.056 suggests that the model has a weak explanatory power. The independent variables don't explain a large proportion of the variation in the dependent variable.\n",
    "\n",
    "The adjusted R-squared (0.041) is even lower than the R-squared, indicating that the model might be suffering from overfitting. The inclusion of additional independent variables might not be statistically significant and might be inflating the R-squared value without a true improvement in explanatory power.\n",
    "\n",
    "The p-value associated with the F-statistic is highly significant (less than 0.05). It indicates that the observed F-statistic value is unlikely to have occurred by chance, and we can reject the null hypothesis."
   ]
  },
  {
   "cell_type": "markdown",
   "metadata": {
    "id": "Qgkb7cWNpr61"
   },
   "source": [
    "Based on the coefficients except for the romantic and goout which is inversely related to the grades, all the other features selected has a positive relationship with the dependent variable."
   ]
  },
  {
   "cell_type": "code",
   "execution_count": 19,
   "metadata": {
    "colab": {
     "base_uri": "https://localhost:8080/",
     "height": 558
    },
    "id": "6nDZh3uUiy3X",
    "outputId": "609ac04d-8192-4e20-e2cc-84719da890de"
   },
   "outputs": [
    {
     "data": {
      "text/html": [
       "<table class=\"simpletable\">\n",
       "<caption>OLS Regression Results</caption>\n",
       "<tr>\n",
       "  <th>Dep. Variable:</th>           <td>G3</td>        <th>  R-squared:         </th> <td>   0.064</td>\n",
       "</tr>\n",
       "<tr>\n",
       "  <th>Model:</th>                   <td>OLS</td>       <th>  Adj. R-squared:    </th> <td>   0.056</td>\n",
       "</tr>\n",
       "<tr>\n",
       "  <th>Method:</th>             <td>Least Squares</td>  <th>  F-statistic:       </th> <td>   7.352</td>\n",
       "</tr>\n",
       "<tr>\n",
       "  <th>Date:</th>             <td>Mon, 24 Jun 2024</td> <th>  Prob (F-statistic):</th> <td>1.28e-07</td>\n",
       "</tr>\n",
       "<tr>\n",
       "  <th>Time:</th>                 <td>17:19:07</td>     <th>  Log-Likelihood:    </th> <td> -1659.9</td>\n",
       "</tr>\n",
       "<tr>\n",
       "  <th>No. Observations:</th>      <td>   649</td>      <th>  AIC:               </th> <td>   3334.</td>\n",
       "</tr>\n",
       "<tr>\n",
       "  <th>Df Residuals:</th>          <td>   642</td>      <th>  BIC:               </th> <td>   3365.</td>\n",
       "</tr>\n",
       "<tr>\n",
       "  <th>Df Model:</th>              <td>     6</td>      <th>                     </th>     <td> </td>   \n",
       "</tr>\n",
       "<tr>\n",
       "  <th>Covariance Type:</th>      <td>nonrobust</td>    <th>                     </th>     <td> </td>   \n",
       "</tr>\n",
       "</table>\n",
       "<table class=\"simpletable\">\n",
       "<tr>\n",
       "      <td></td>        <th>coef</th>     <th>std err</th>      <th>t</th>      <th>P>|t|</th>  <th>[0.025</th>    <th>0.975]</th>  \n",
       "</tr>\n",
       "<tr>\n",
       "  <th>const</th>    <td>   12.2653</td> <td>    0.673</td> <td>   18.227</td> <td> 0.000</td> <td>   10.944</td> <td>   13.587</td>\n",
       "</tr>\n",
       "<tr>\n",
       "  <th>internet</th> <td>    1.2768</td> <td>    0.295</td> <td>    4.332</td> <td> 0.000</td> <td>    0.698</td> <td>    1.855</td>\n",
       "</tr>\n",
       "<tr>\n",
       "  <th>romantic</th> <td>   -0.5593</td> <td>    0.257</td> <td>   -2.178</td> <td> 0.030</td> <td>   -1.064</td> <td>   -0.055</td>\n",
       "</tr>\n",
       "<tr>\n",
       "  <th>famrel</th>   <td>    0.1988</td> <td>    0.131</td> <td>    1.513</td> <td> 0.131</td> <td>   -0.059</td> <td>    0.457</td>\n",
       "</tr>\n",
       "<tr>\n",
       "  <th>freetime</th> <td>   -0.3677</td> <td>    0.126</td> <td>   -2.918</td> <td> 0.004</td> <td>   -0.615</td> <td>   -0.120</td>\n",
       "</tr>\n",
       "<tr>\n",
       "  <th>goout</th>    <td>   -0.1636</td> <td>    0.113</td> <td>   -1.450</td> <td> 0.147</td> <td>   -0.385</td> <td>    0.058</td>\n",
       "</tr>\n",
       "<tr>\n",
       "  <th>absences</th> <td>   -0.0612</td> <td>    0.027</td> <td>   -2.269</td> <td> 0.024</td> <td>   -0.114</td> <td>   -0.008</td>\n",
       "</tr>\n",
       "</table>\n",
       "<table class=\"simpletable\">\n",
       "<tr>\n",
       "  <th>Omnibus:</th>       <td>123.806</td> <th>  Durbin-Watson:     </th> <td>   1.638</td>\n",
       "</tr>\n",
       "<tr>\n",
       "  <th>Prob(Omnibus):</th> <td> 0.000</td>  <th>  Jarque-Bera (JB):  </th> <td> 336.959</td>\n",
       "</tr>\n",
       "<tr>\n",
       "  <th>Skew:</th>          <td>-0.951</td>  <th>  Prob(JB):          </th> <td>6.76e-74</td>\n",
       "</tr>\n",
       "<tr>\n",
       "  <th>Kurtosis:</th>      <td> 5.973</td>  <th>  Cond. No.          </th> <td>    42.8</td>\n",
       "</tr>\n",
       "</table><br/><br/>Notes:<br/>[1] Standard Errors assume that the covariance matrix of the errors is correctly specified."
      ],
      "text/plain": [
       "<class 'statsmodels.iolib.summary.Summary'>\n",
       "\"\"\"\n",
       "                            OLS Regression Results                            \n",
       "==============================================================================\n",
       "Dep. Variable:                     G3   R-squared:                       0.064\n",
       "Model:                            OLS   Adj. R-squared:                  0.056\n",
       "Method:                 Least Squares   F-statistic:                     7.352\n",
       "Date:                Mon, 24 Jun 2024   Prob (F-statistic):           1.28e-07\n",
       "Time:                        17:19:07   Log-Likelihood:                -1659.9\n",
       "No. Observations:                 649   AIC:                             3334.\n",
       "Df Residuals:                     642   BIC:                             3365.\n",
       "Df Model:                           6                                         \n",
       "Covariance Type:            nonrobust                                         \n",
       "==============================================================================\n",
       "                 coef    std err          t      P>|t|      [0.025      0.975]\n",
       "------------------------------------------------------------------------------\n",
       "const         12.2653      0.673     18.227      0.000      10.944      13.587\n",
       "internet       1.2768      0.295      4.332      0.000       0.698       1.855\n",
       "romantic      -0.5593      0.257     -2.178      0.030      -1.064      -0.055\n",
       "famrel         0.1988      0.131      1.513      0.131      -0.059       0.457\n",
       "freetime      -0.3677      0.126     -2.918      0.004      -0.615      -0.120\n",
       "goout         -0.1636      0.113     -1.450      0.147      -0.385       0.058\n",
       "absences      -0.0612      0.027     -2.269      0.024      -0.114      -0.008\n",
       "==============================================================================\n",
       "Omnibus:                      123.806   Durbin-Watson:                   1.638\n",
       "Prob(Omnibus):                  0.000   Jarque-Bera (JB):              336.959\n",
       "Skew:                          -0.951   Prob(JB):                     6.76e-74\n",
       "Kurtosis:                       5.973   Cond. No.                         42.8\n",
       "==============================================================================\n",
       "\n",
       "Notes:\n",
       "[1] Standard Errors assume that the covariance matrix of the errors is correctly specified.\n",
       "\"\"\""
      ]
     },
     "execution_count": 19,
     "metadata": {},
     "output_type": "execute_result"
    }
   ],
   "source": [
    "X_por = student_por[selected_columns]\n",
    "y_por = student_por[\"G3\"]\n",
    "\n",
    "X_por = sm.add_constant(X_por)\n",
    "\n",
    "model = sm.OLS(y_por, X_por)\n",
    "results = model.fit()\n",
    "\n",
    "results.summary()"
   ]
  },
  {
   "cell_type": "markdown",
   "metadata": {
    "id": "sXv2EQyskH4f"
   },
   "source": [
    "The R squared value of 0.064 indicates that approximately 6.4% of the variance in the dependent variable can be explained by the independent variables included in your model. A low R-squared value like 0.064 suggests that the model has a weak explanatory power.\n",
    "\n",
    "The adjusted R-squared (0.056) is even lower than the R-squared, indicating that the model might be suffering from overfitting.\n",
    "\n",
    "The p-value associated with the F-statistic is highly significant (less than 0.05). It indicates that the observed F-statistic value is unlikely to have occurred by chance, and we can reject the null hypothesis."
   ]
  },
  {
   "cell_type": "markdown",
   "metadata": {
    "id": "tMqahxm6kHuz"
   },
   "source": [
    "While the F-statistic for both the math and portuguese student performance dataset suggests a statistically significant relationship between at least one independent variable and the dependent variable, the low R-squared and adjusted R-squared values indicate a weak model fit. The model explains a small portion of the variance, and there might be overfitting due to the inclusion of unnecessary variables.\n",
    "\n"
   ]
  },
  {
   "cell_type": "markdown",
   "metadata": {
    "id": "3qknLitpkxSH"
   },
   "source": [
    "**Feature selection to improve model performance:**"
   ]
  },
  {
   "cell_type": "markdown",
   "metadata": {
    "id": "8hsF2BCllV7b"
   },
   "source": [
    "Dropping the features famrel in both the datasets which has a higher p value."
   ]
  },
  {
   "cell_type": "code",
   "execution_count": 20,
   "metadata": {
    "id": "HGRSwhEaiy0S"
   },
   "outputs": [],
   "source": [
    "selected_columns = ['internet' ,'romantic' , 'freetime' , 'goout' ,'absences']\n"
   ]
  },
  {
   "cell_type": "code",
   "execution_count": 21,
   "metadata": {
    "colab": {
     "base_uri": "https://localhost:8080/",
     "height": 537
    },
    "id": "7iiMdnvbiywn",
    "outputId": "da536373-ef5f-4afd-ff94-9acc9ea0e3db"
   },
   "outputs": [
    {
     "data": {
      "text/html": [
       "<table class=\"simpletable\">\n",
       "<caption>OLS Regression Results</caption>\n",
       "<tr>\n",
       "  <th>Dep. Variable:</th>           <td>G3</td>        <th>  R-squared:         </th> <td>   0.054</td>\n",
       "</tr>\n",
       "<tr>\n",
       "  <th>Model:</th>                   <td>OLS</td>       <th>  Adj. R-squared:    </th> <td>   0.042</td>\n",
       "</tr>\n",
       "<tr>\n",
       "  <th>Method:</th>             <td>Least Squares</td>  <th>  F-statistic:       </th> <td>   4.417</td>\n",
       "</tr>\n",
       "<tr>\n",
       "  <th>Date:</th>             <td>Mon, 24 Jun 2024</td> <th>  Prob (F-statistic):</th> <td>0.000634</td>\n",
       "</tr>\n",
       "<tr>\n",
       "  <th>Time:</th>                 <td>17:19:07</td>     <th>  Log-Likelihood:    </th> <td> -1150.3</td>\n",
       "</tr>\n",
       "<tr>\n",
       "  <th>No. Observations:</th>      <td>   395</td>      <th>  AIC:               </th> <td>   2313.</td>\n",
       "</tr>\n",
       "<tr>\n",
       "  <th>Df Residuals:</th>          <td>   389</td>      <th>  BIC:               </th> <td>   2336.</td>\n",
       "</tr>\n",
       "<tr>\n",
       "  <th>Df Model:</th>              <td>     5</td>      <th>                     </th>     <td> </td>   \n",
       "</tr>\n",
       "<tr>\n",
       "  <th>Covariance Type:</th>      <td>nonrobust</td>    <th>                     </th>     <td> </td>   \n",
       "</tr>\n",
       "</table>\n",
       "<table class=\"simpletable\">\n",
       "<tr>\n",
       "      <td></td>        <th>coef</th>     <th>std err</th>      <th>t</th>      <th>P>|t|</th>  <th>[0.025</th>    <th>0.975]</th>  \n",
       "</tr>\n",
       "<tr>\n",
       "  <th>const</th>    <td>   10.7829</td> <td>    1.002</td> <td>   10.763</td> <td> 0.000</td> <td>    8.813</td> <td>   12.753</td>\n",
       "</tr>\n",
       "<tr>\n",
       "  <th>internet</th> <td>    1.4069</td> <td>    0.612</td> <td>    2.300</td> <td> 0.022</td> <td>    0.204</td> <td>    2.610</td>\n",
       "</tr>\n",
       "<tr>\n",
       "  <th>romantic</th> <td>   -1.4219</td> <td>    0.485</td> <td>   -2.929</td> <td> 0.004</td> <td>   -2.376</td> <td>   -0.467</td>\n",
       "</tr>\n",
       "<tr>\n",
       "  <th>freetime</th> <td>    0.2378</td> <td>    0.237</td> <td>    1.004</td> <td> 0.316</td> <td>   -0.228</td> <td>    0.703</td>\n",
       "</tr>\n",
       "<tr>\n",
       "  <th>goout</th>    <td>   -0.6477</td> <td>    0.213</td> <td>   -3.048</td> <td> 0.002</td> <td>   -1.066</td> <td>   -0.230</td>\n",
       "</tr>\n",
       "<tr>\n",
       "  <th>absences</th> <td>    0.0315</td> <td>    0.029</td> <td>    1.095</td> <td> 0.274</td> <td>   -0.025</td> <td>    0.088</td>\n",
       "</tr>\n",
       "</table>\n",
       "<table class=\"simpletable\">\n",
       "<tr>\n",
       "  <th>Omnibus:</th>       <td>27.551</td> <th>  Durbin-Watson:     </th> <td>   2.049</td>\n",
       "</tr>\n",
       "<tr>\n",
       "  <th>Prob(Omnibus):</th> <td> 0.000</td> <th>  Jarque-Bera (JB):  </th> <td>  31.401</td>\n",
       "</tr>\n",
       "<tr>\n",
       "  <th>Skew:</th>          <td>-0.679</td> <th>  Prob(JB):          </th> <td>1.52e-07</td>\n",
       "</tr>\n",
       "<tr>\n",
       "  <th>Kurtosis:</th>      <td> 3.251</td> <th>  Cond. No.          </th> <td>    48.0</td>\n",
       "</tr>\n",
       "</table><br/><br/>Notes:<br/>[1] Standard Errors assume that the covariance matrix of the errors is correctly specified."
      ],
      "text/plain": [
       "<class 'statsmodels.iolib.summary.Summary'>\n",
       "\"\"\"\n",
       "                            OLS Regression Results                            \n",
       "==============================================================================\n",
       "Dep. Variable:                     G3   R-squared:                       0.054\n",
       "Model:                            OLS   Adj. R-squared:                  0.042\n",
       "Method:                 Least Squares   F-statistic:                     4.417\n",
       "Date:                Mon, 24 Jun 2024   Prob (F-statistic):           0.000634\n",
       "Time:                        17:19:07   Log-Likelihood:                -1150.3\n",
       "No. Observations:                 395   AIC:                             2313.\n",
       "Df Residuals:                     389   BIC:                             2336.\n",
       "Df Model:                           5                                         \n",
       "Covariance Type:            nonrobust                                         \n",
       "==============================================================================\n",
       "                 coef    std err          t      P>|t|      [0.025      0.975]\n",
       "------------------------------------------------------------------------------\n",
       "const         10.7829      1.002     10.763      0.000       8.813      12.753\n",
       "internet       1.4069      0.612      2.300      0.022       0.204       2.610\n",
       "romantic      -1.4219      0.485     -2.929      0.004      -2.376      -0.467\n",
       "freetime       0.2378      0.237      1.004      0.316      -0.228       0.703\n",
       "goout         -0.6477      0.213     -3.048      0.002      -1.066      -0.230\n",
       "absences       0.0315      0.029      1.095      0.274      -0.025       0.088\n",
       "==============================================================================\n",
       "Omnibus:                       27.551   Durbin-Watson:                   2.049\n",
       "Prob(Omnibus):                  0.000   Jarque-Bera (JB):               31.401\n",
       "Skew:                          -0.679   Prob(JB):                     1.52e-07\n",
       "Kurtosis:                       3.251   Cond. No.                         48.0\n",
       "==============================================================================\n",
       "\n",
       "Notes:\n",
       "[1] Standard Errors assume that the covariance matrix of the errors is correctly specified.\n",
       "\"\"\""
      ]
     },
     "execution_count": 21,
     "metadata": {},
     "output_type": "execute_result"
    }
   ],
   "source": [
    "X_math = student_math[selected_columns]\n",
    "y_math = student_math[\"G3\"]\n",
    "\n",
    "X_math = sm.add_constant(X_math)\n",
    "\n",
    "model = sm.OLS(y_math, X_math)\n",
    "results = model.fit()\n",
    "\n",
    "results.summary()"
   ]
  },
  {
   "cell_type": "code",
   "execution_count": 22,
   "metadata": {
    "colab": {
     "base_uri": "https://localhost:8080/",
     "height": 537
    },
    "id": "za8P4LQfmOS1",
    "outputId": "fa5c4456-ca25-4407-e0bb-2913c5f6ab11"
   },
   "outputs": [
    {
     "data": {
      "text/html": [
       "<table class=\"simpletable\">\n",
       "<caption>OLS Regression Results</caption>\n",
       "<tr>\n",
       "  <th>Dep. Variable:</th>           <td>G3</td>        <th>  R-squared:         </th> <td>   0.061</td>\n",
       "</tr>\n",
       "<tr>\n",
       "  <th>Model:</th>                   <td>OLS</td>       <th>  Adj. R-squared:    </th> <td>   0.054</td>\n",
       "</tr>\n",
       "<tr>\n",
       "  <th>Method:</th>             <td>Least Squares</td>  <th>  F-statistic:       </th> <td>   8.348</td>\n",
       "</tr>\n",
       "<tr>\n",
       "  <th>Date:</th>             <td>Mon, 24 Jun 2024</td> <th>  Prob (F-statistic):</th> <td>1.16e-07</td>\n",
       "</tr>\n",
       "<tr>\n",
       "  <th>Time:</th>                 <td>17:19:07</td>     <th>  Log-Likelihood:    </th> <td> -1661.1</td>\n",
       "</tr>\n",
       "<tr>\n",
       "  <th>No. Observations:</th>      <td>   649</td>      <th>  AIC:               </th> <td>   3334.</td>\n",
       "</tr>\n",
       "<tr>\n",
       "  <th>Df Residuals:</th>          <td>   643</td>      <th>  BIC:               </th> <td>   3361.</td>\n",
       "</tr>\n",
       "<tr>\n",
       "  <th>Df Model:</th>              <td>     5</td>      <th>                     </th>     <td> </td>   \n",
       "</tr>\n",
       "<tr>\n",
       "  <th>Covariance Type:</th>      <td>nonrobust</td>    <th>                     </th>     <td> </td>   \n",
       "</tr>\n",
       "</table>\n",
       "<table class=\"simpletable\">\n",
       "<tr>\n",
       "      <td></td>        <th>coef</th>     <th>std err</th>      <th>t</th>      <th>P>|t|</th>  <th>[0.025</th>    <th>0.975]</th>  \n",
       "</tr>\n",
       "<tr>\n",
       "  <th>const</th>    <td>   12.9517</td> <td>    0.497</td> <td>   26.037</td> <td> 0.000</td> <td>   11.975</td> <td>   13.929</td>\n",
       "</tr>\n",
       "<tr>\n",
       "  <th>internet</th> <td>    1.3120</td> <td>    0.294</td> <td>    4.461</td> <td> 0.000</td> <td>    0.734</td> <td>    1.889</td>\n",
       "</tr>\n",
       "<tr>\n",
       "  <th>romantic</th> <td>   -0.5762</td> <td>    0.257</td> <td>   -2.243</td> <td> 0.025</td> <td>   -1.081</td> <td>   -0.072</td>\n",
       "</tr>\n",
       "<tr>\n",
       "  <th>freetime</th> <td>   -0.3487</td> <td>    0.126</td> <td>   -2.778</td> <td> 0.006</td> <td>   -0.595</td> <td>   -0.102</td>\n",
       "</tr>\n",
       "<tr>\n",
       "  <th>goout</th>    <td>   -0.1549</td> <td>    0.113</td> <td>   -1.373</td> <td> 0.170</td> <td>   -0.376</td> <td>    0.067</td>\n",
       "</tr>\n",
       "<tr>\n",
       "  <th>absences</th> <td>   -0.0650</td> <td>    0.027</td> <td>   -2.420</td> <td> 0.016</td> <td>   -0.118</td> <td>   -0.012</td>\n",
       "</tr>\n",
       "</table>\n",
       "<table class=\"simpletable\">\n",
       "<tr>\n",
       "  <th>Omnibus:</th>       <td>123.434</td> <th>  Durbin-Watson:     </th> <td>   1.635</td>\n",
       "</tr>\n",
       "<tr>\n",
       "  <th>Prob(Omnibus):</th> <td> 0.000</td>  <th>  Jarque-Bera (JB):  </th> <td> 335.248</td>\n",
       "</tr>\n",
       "<tr>\n",
       "  <th>Skew:</th>          <td>-0.949</td>  <th>  Prob(JB):          </th> <td>1.59e-73</td>\n",
       "</tr>\n",
       "<tr>\n",
       "  <th>Kurtosis:</th>      <td> 5.965</td>  <th>  Cond. No.          </th> <td>    29.1</td>\n",
       "</tr>\n",
       "</table><br/><br/>Notes:<br/>[1] Standard Errors assume that the covariance matrix of the errors is correctly specified."
      ],
      "text/plain": [
       "<class 'statsmodels.iolib.summary.Summary'>\n",
       "\"\"\"\n",
       "                            OLS Regression Results                            \n",
       "==============================================================================\n",
       "Dep. Variable:                     G3   R-squared:                       0.061\n",
       "Model:                            OLS   Adj. R-squared:                  0.054\n",
       "Method:                 Least Squares   F-statistic:                     8.348\n",
       "Date:                Mon, 24 Jun 2024   Prob (F-statistic):           1.16e-07\n",
       "Time:                        17:19:07   Log-Likelihood:                -1661.1\n",
       "No. Observations:                 649   AIC:                             3334.\n",
       "Df Residuals:                     643   BIC:                             3361.\n",
       "Df Model:                           5                                         \n",
       "Covariance Type:            nonrobust                                         \n",
       "==============================================================================\n",
       "                 coef    std err          t      P>|t|      [0.025      0.975]\n",
       "------------------------------------------------------------------------------\n",
       "const         12.9517      0.497     26.037      0.000      11.975      13.929\n",
       "internet       1.3120      0.294      4.461      0.000       0.734       1.889\n",
       "romantic      -0.5762      0.257     -2.243      0.025      -1.081      -0.072\n",
       "freetime      -0.3487      0.126     -2.778      0.006      -0.595      -0.102\n",
       "goout         -0.1549      0.113     -1.373      0.170      -0.376       0.067\n",
       "absences      -0.0650      0.027     -2.420      0.016      -0.118      -0.012\n",
       "==============================================================================\n",
       "Omnibus:                      123.434   Durbin-Watson:                   1.635\n",
       "Prob(Omnibus):                  0.000   Jarque-Bera (JB):              335.248\n",
       "Skew:                          -0.949   Prob(JB):                     1.59e-73\n",
       "Kurtosis:                       5.965   Cond. No.                         29.1\n",
       "==============================================================================\n",
       "\n",
       "Notes:\n",
       "[1] Standard Errors assume that the covariance matrix of the errors is correctly specified.\n",
       "\"\"\""
      ]
     },
     "execution_count": 22,
     "metadata": {},
     "output_type": "execute_result"
    }
   ],
   "source": [
    "X_por = student_por[selected_columns]\n",
    "y_por = student_por[\"G3\"]\n",
    "\n",
    "X_por = sm.add_constant(X_por)\n",
    "\n",
    "model = sm.OLS(y_por, X_por)\n",
    "results = model.fit()\n",
    "\n",
    "results.summary()"
   ]
  },
  {
   "cell_type": "markdown",
   "metadata": {
    "id": "7oIgL_UVnbl9"
   },
   "source": [
    "Freetime and absences have higher p values for the math dataset, goout has higher p value for the portuguese dataset. So dropping those features and checking the model performance."
   ]
  },
  {
   "cell_type": "code",
   "execution_count": 23,
   "metadata": {
    "colab": {
     "base_uri": "https://localhost:8080/",
     "height": 494
    },
    "id": "X-gZ8XIGnugs",
    "outputId": "94b2242b-5a1a-4144-8e05-e405f8a77b27"
   },
   "outputs": [
    {
     "data": {
      "text/html": [
       "<table class=\"simpletable\">\n",
       "<caption>OLS Regression Results</caption>\n",
       "<tr>\n",
       "  <th>Dep. Variable:</th>           <td>G3</td>        <th>  R-squared:         </th> <td>   0.049</td>\n",
       "</tr>\n",
       "<tr>\n",
       "  <th>Model:</th>                   <td>OLS</td>       <th>  Adj. R-squared:    </th> <td>   0.041</td>\n",
       "</tr>\n",
       "<tr>\n",
       "  <th>Method:</th>             <td>Least Squares</td>  <th>  F-statistic:       </th> <td>   6.676</td>\n",
       "</tr>\n",
       "<tr>\n",
       "  <th>Date:</th>             <td>Mon, 24 Jun 2024</td> <th>  Prob (F-statistic):</th> <td>0.000210</td>\n",
       "</tr>\n",
       "<tr>\n",
       "  <th>Time:</th>                 <td>17:19:07</td>     <th>  Log-Likelihood:    </th> <td> -1151.3</td>\n",
       "</tr>\n",
       "<tr>\n",
       "  <th>No. Observations:</th>      <td>   395</td>      <th>  AIC:               </th> <td>   2311.</td>\n",
       "</tr>\n",
       "<tr>\n",
       "  <th>Df Residuals:</th>          <td>   391</td>      <th>  BIC:               </th> <td>   2327.</td>\n",
       "</tr>\n",
       "<tr>\n",
       "  <th>Df Model:</th>              <td>     3</td>      <th>                     </th>     <td> </td>   \n",
       "</tr>\n",
       "<tr>\n",
       "  <th>Covariance Type:</th>      <td>nonrobust</td>    <th>                     </th>     <td> </td>   \n",
       "</tr>\n",
       "</table>\n",
       "<table class=\"simpletable\">\n",
       "<tr>\n",
       "      <td></td>        <th>coef</th>     <th>std err</th>      <th>t</th>      <th>P>|t|</th>  <th>[0.025</th>    <th>0.975]</th>  \n",
       "</tr>\n",
       "<tr>\n",
       "  <th>const</th>    <td>   11.4301</td> <td>    0.820</td> <td>   13.938</td> <td> 0.000</td> <td>    9.818</td> <td>   13.042</td>\n",
       "</tr>\n",
       "<tr>\n",
       "  <th>internet</th> <td>    1.4852</td> <td>    0.609</td> <td>    2.439</td> <td> 0.015</td> <td>    0.288</td> <td>    2.682</td>\n",
       "</tr>\n",
       "<tr>\n",
       "  <th>romantic</th> <td>   -1.3523</td> <td>    0.480</td> <td>   -2.816</td> <td> 0.005</td> <td>   -2.297</td> <td>   -0.408</td>\n",
       "</tr>\n",
       "<tr>\n",
       "  <th>goout</th>    <td>   -0.5790</td> <td>    0.204</td> <td>   -2.845</td> <td> 0.005</td> <td>   -0.979</td> <td>   -0.179</td>\n",
       "</tr>\n",
       "</table>\n",
       "<table class=\"simpletable\">\n",
       "<tr>\n",
       "  <th>Omnibus:</th>       <td>32.489</td> <th>  Durbin-Watson:     </th> <td>   2.040</td>\n",
       "</tr>\n",
       "<tr>\n",
       "  <th>Prob(Omnibus):</th> <td> 0.000</td> <th>  Jarque-Bera (JB):  </th> <td>  38.096</td>\n",
       "</tr>\n",
       "<tr>\n",
       "  <th>Skew:</th>          <td>-0.736</td> <th>  Prob(JB):          </th> <td>5.34e-09</td>\n",
       "</tr>\n",
       "<tr>\n",
       "  <th>Kurtosis:</th>      <td> 3.387</td> <th>  Cond. No.          </th> <td>    14.4</td>\n",
       "</tr>\n",
       "</table><br/><br/>Notes:<br/>[1] Standard Errors assume that the covariance matrix of the errors is correctly specified."
      ],
      "text/plain": [
       "<class 'statsmodels.iolib.summary.Summary'>\n",
       "\"\"\"\n",
       "                            OLS Regression Results                            \n",
       "==============================================================================\n",
       "Dep. Variable:                     G3   R-squared:                       0.049\n",
       "Model:                            OLS   Adj. R-squared:                  0.041\n",
       "Method:                 Least Squares   F-statistic:                     6.676\n",
       "Date:                Mon, 24 Jun 2024   Prob (F-statistic):           0.000210\n",
       "Time:                        17:19:07   Log-Likelihood:                -1151.3\n",
       "No. Observations:                 395   AIC:                             2311.\n",
       "Df Residuals:                     391   BIC:                             2327.\n",
       "Df Model:                           3                                         \n",
       "Covariance Type:            nonrobust                                         \n",
       "==============================================================================\n",
       "                 coef    std err          t      P>|t|      [0.025      0.975]\n",
       "------------------------------------------------------------------------------\n",
       "const         11.4301      0.820     13.938      0.000       9.818      13.042\n",
       "internet       1.4852      0.609      2.439      0.015       0.288       2.682\n",
       "romantic      -1.3523      0.480     -2.816      0.005      -2.297      -0.408\n",
       "goout         -0.5790      0.204     -2.845      0.005      -0.979      -0.179\n",
       "==============================================================================\n",
       "Omnibus:                       32.489   Durbin-Watson:                   2.040\n",
       "Prob(Omnibus):                  0.000   Jarque-Bera (JB):               38.096\n",
       "Skew:                          -0.736   Prob(JB):                     5.34e-09\n",
       "Kurtosis:                       3.387   Cond. No.                         14.4\n",
       "==============================================================================\n",
       "\n",
       "Notes:\n",
       "[1] Standard Errors assume that the covariance matrix of the errors is correctly specified.\n",
       "\"\"\""
      ]
     },
     "execution_count": 23,
     "metadata": {},
     "output_type": "execute_result"
    }
   ],
   "source": [
    "selected_columns = ['internet' ,'romantic' , 'goout']\n",
    "X_math = student_math[selected_columns]\n",
    "y_math = student_math[\"G3\"]\n",
    "\n",
    "X_math = sm.add_constant(X_math)\n",
    "\n",
    "model = sm.OLS(y_math, X_math)\n",
    "results = model.fit()\n",
    "\n",
    "results.summary()"
   ]
  },
  {
   "cell_type": "code",
   "execution_count": 24,
   "metadata": {
    "colab": {
     "base_uri": "https://localhost:8080/",
     "height": 516
    },
    "id": "dLs_W37cn4g3",
    "outputId": "410883d2-f2ba-4490-faf2-62b484fbcacc"
   },
   "outputs": [
    {
     "data": {
      "text/html": [
       "<table class=\"simpletable\">\n",
       "<caption>OLS Regression Results</caption>\n",
       "<tr>\n",
       "  <th>Dep. Variable:</th>           <td>G3</td>        <th>  R-squared:         </th> <td>   0.058</td>\n",
       "</tr>\n",
       "<tr>\n",
       "  <th>Model:</th>                   <td>OLS</td>       <th>  Adj. R-squared:    </th> <td>   0.052</td>\n",
       "</tr>\n",
       "<tr>\n",
       "  <th>Method:</th>             <td>Least Squares</td>  <th>  F-statistic:       </th> <td>   9.950</td>\n",
       "</tr>\n",
       "<tr>\n",
       "  <th>Date:</th>             <td>Mon, 24 Jun 2024</td> <th>  Prob (F-statistic):</th> <td>8.12e-08</td>\n",
       "</tr>\n",
       "<tr>\n",
       "  <th>Time:</th>                 <td>17:19:07</td>     <th>  Log-Likelihood:    </th> <td> -1662.0</td>\n",
       "</tr>\n",
       "<tr>\n",
       "  <th>No. Observations:</th>      <td>   649</td>      <th>  AIC:               </th> <td>   3334.</td>\n",
       "</tr>\n",
       "<tr>\n",
       "  <th>Df Residuals:</th>          <td>   644</td>      <th>  BIC:               </th> <td>   3356.</td>\n",
       "</tr>\n",
       "<tr>\n",
       "  <th>Df Model:</th>              <td>     4</td>      <th>                     </th>     <td> </td>   \n",
       "</tr>\n",
       "<tr>\n",
       "  <th>Covariance Type:</th>      <td>nonrobust</td>    <th>                     </th>     <td> </td>   \n",
       "</tr>\n",
       "</table>\n",
       "<table class=\"simpletable\">\n",
       "<tr>\n",
       "      <td></td>        <th>coef</th>     <th>std err</th>      <th>t</th>      <th>P>|t|</th>  <th>[0.025</th>    <th>0.975]</th>  \n",
       "</tr>\n",
       "<tr>\n",
       "  <th>const</th>    <td>   12.6801</td> <td>    0.457</td> <td>   27.763</td> <td> 0.000</td> <td>   11.783</td> <td>   13.577</td>\n",
       "</tr>\n",
       "<tr>\n",
       "  <th>internet</th> <td>    1.2837</td> <td>    0.294</td> <td>    4.373</td> <td> 0.000</td> <td>    0.707</td> <td>    1.860</td>\n",
       "</tr>\n",
       "<tr>\n",
       "  <th>romantic</th> <td>   -0.5690</td> <td>    0.257</td> <td>   -2.214</td> <td> 0.027</td> <td>   -1.074</td> <td>   -0.064</td>\n",
       "</tr>\n",
       "<tr>\n",
       "  <th>freetime</th> <td>   -0.4084</td> <td>    0.118</td> <td>   -3.465</td> <td> 0.001</td> <td>   -0.640</td> <td>   -0.177</td>\n",
       "</tr>\n",
       "<tr>\n",
       "  <th>absences</th> <td>   -0.0685</td> <td>    0.027</td> <td>   -2.559</td> <td> 0.011</td> <td>   -0.121</td> <td>   -0.016</td>\n",
       "</tr>\n",
       "</table>\n",
       "<table class=\"simpletable\">\n",
       "<tr>\n",
       "  <th>Omnibus:</th>       <td>120.536</td> <th>  Durbin-Watson:     </th> <td>   1.641</td>\n",
       "</tr>\n",
       "<tr>\n",
       "  <th>Prob(Omnibus):</th> <td> 0.000</td>  <th>  Jarque-Bera (JB):  </th> <td> 322.008</td>\n",
       "</tr>\n",
       "<tr>\n",
       "  <th>Skew:</th>          <td>-0.933</td>  <th>  Prob(JB):          </th> <td>1.19e-70</td>\n",
       "</tr>\n",
       "<tr>\n",
       "  <th>Kurtosis:</th>      <td> 5.902</td>  <th>  Cond. No.          </th> <td>    25.2</td>\n",
       "</tr>\n",
       "</table><br/><br/>Notes:<br/>[1] Standard Errors assume that the covariance matrix of the errors is correctly specified."
      ],
      "text/plain": [
       "<class 'statsmodels.iolib.summary.Summary'>\n",
       "\"\"\"\n",
       "                            OLS Regression Results                            \n",
       "==============================================================================\n",
       "Dep. Variable:                     G3   R-squared:                       0.058\n",
       "Model:                            OLS   Adj. R-squared:                  0.052\n",
       "Method:                 Least Squares   F-statistic:                     9.950\n",
       "Date:                Mon, 24 Jun 2024   Prob (F-statistic):           8.12e-08\n",
       "Time:                        17:19:07   Log-Likelihood:                -1662.0\n",
       "No. Observations:                 649   AIC:                             3334.\n",
       "Df Residuals:                     644   BIC:                             3356.\n",
       "Df Model:                           4                                         \n",
       "Covariance Type:            nonrobust                                         \n",
       "==============================================================================\n",
       "                 coef    std err          t      P>|t|      [0.025      0.975]\n",
       "------------------------------------------------------------------------------\n",
       "const         12.6801      0.457     27.763      0.000      11.783      13.577\n",
       "internet       1.2837      0.294      4.373      0.000       0.707       1.860\n",
       "romantic      -0.5690      0.257     -2.214      0.027      -1.074      -0.064\n",
       "freetime      -0.4084      0.118     -3.465      0.001      -0.640      -0.177\n",
       "absences      -0.0685      0.027     -2.559      0.011      -0.121      -0.016\n",
       "==============================================================================\n",
       "Omnibus:                      120.536   Durbin-Watson:                   1.641\n",
       "Prob(Omnibus):                  0.000   Jarque-Bera (JB):              322.008\n",
       "Skew:                          -0.933   Prob(JB):                     1.19e-70\n",
       "Kurtosis:                       5.902   Cond. No.                         25.2\n",
       "==============================================================================\n",
       "\n",
       "Notes:\n",
       "[1] Standard Errors assume that the covariance matrix of the errors is correctly specified.\n",
       "\"\"\""
      ]
     },
     "execution_count": 24,
     "metadata": {},
     "output_type": "execute_result"
    }
   ],
   "source": [
    "selected_columns = ['internet' ,'romantic' , 'freetime' , 'absences']\n",
    "X_por = student_por[selected_columns]\n",
    "y_por = student_por[\"G3\"]\n",
    "\n",
    "X_por = sm.add_constant(X_por)\n",
    "\n",
    "model = sm.OLS(y_por, X_por)\n",
    "results = model.fit()\n",
    "\n",
    "results.summary()"
   ]
  },
  {
   "cell_type": "markdown",
   "metadata": {
    "id": "P5DgjdtwomO4"
   },
   "source": [
    "Even though the F statistic kept increasing after feature selection, the low R-squared and adjusted R-squared values indicate a weak model fit. With no multicollinearity between features selected, the model performance did not improve much with feature selection with respect to R squared or adjusted R squared."
   ]
  }
 ],
 "metadata": {
  "colab": {
   "provenance": []
  },
  "kernelspec": {
   "display_name": "Python 3",
   "language": "python",
   "name": "python3"
  },
  "language_info": {
   "codemirror_mode": {
    "name": "ipython",
    "version": 3
   },
   "file_extension": ".py",
   "mimetype": "text/x-python",
   "name": "python",
   "nbconvert_exporter": "python",
   "pygments_lexer": "ipython3",
   "version": "3.7.4"
  }
 },
 "nbformat": 4,
 "nbformat_minor": 1
}
