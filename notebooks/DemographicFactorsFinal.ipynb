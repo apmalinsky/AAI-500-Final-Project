{
 "cells": [
  {
   "cell_type": "code",
   "execution_count": 3,
   "id": "initial_id",
   "metadata": {
    "jupyter": {
     "is_executing": true
    }
   },
   "outputs": [],
   "source": [
    "import pandas as pd\n",
    "from sklearn.feature_selection import RFE\n",
    "from sklearn.linear_model import LinearRegression\n",
    "import statsmodels.api as sm\n",
    "\n",
    "math = pd.read_csv('student-mat.csv', delimiter=';')\n",
    "language = pd.read_csv('student-por.csv', delimiter=';')"
   ]
  },
  {
   "cell_type": "markdown",
   "id": "94d2323e13f5a3bf",
   "metadata": {},
   "source": [
    "#### Tasks:\n",
    "\n",
    "##### Investigate impact of demographic factors on final grades\n",
    "##### Compare across subjects"
   ]
  },
  {
   "cell_type": "code",
   "execution_count": 4,
   "id": "126f6b2f2c6f4a57",
   "metadata": {
    "ExecuteTime": {
     "end_time": "2024-06-18T22:57:29.211441Z",
     "start_time": "2024-06-18T22:57:29.180360Z"
    }
   },
   "outputs": [],
   "source": [
    "# Drop non-demographic columns\n",
    "demo_math = math.drop(['school', 'address', 'reason', 'traveltime', 'studytime', 'failures', 'schoolsup', 'famsup', 'paid', 'activities', 'nursery', 'higher', 'internet', 'famrel', 'freetime', 'goout', 'Dalc', 'Walc', 'absences', 'G1', 'G2', 'G3', 'romantic'], axis=1)\n",
    "demo_language = language.drop(['school', 'address', 'reason', 'traveltime', 'studytime', 'failures', 'schoolsup', 'famsup', 'paid', 'activities', 'nursery', 'higher', 'internet', 'famrel', 'freetime', 'goout', 'Dalc', 'Walc', 'absences', 'G1', 'G2', 'G3', 'romantic'], axis=1)\n",
    "\n",
    "# Change 'Medu', 'Fedu', and 'health' columns into strings for label encoding\n",
    "convert_type = {'Medu': str, 'Fedu': str, 'health': str}\n",
    "\n",
    "demo_math = demo_math.astype(convert_type)\n",
    "demo_language = demo_language.astype(convert_type)\n",
    "\n",
    "\n",
    "# Encode labels\n",
    "demo_math_dummies = pd.get_dummies(demo_math, drop_first=True, dtype=int)\n",
    "demo_language_dummies = pd.get_dummies(demo_language, drop_first=True)\n",
    "\n",
    "\n",
    "# G3 Response Variable\n",
    "G3_math = math['G3']\n",
    "G3_lang = language['G3']"
   ]
  },
  {
   "cell_type": "code",
   "execution_count": 23,
   "id": "f27c3b0c1f2c958d",
   "metadata": {
    "jupyter": {
     "is_executing": true
    }
   },
   "outputs": [
    {
     "name": "stdout",
     "output_type": "stream",
     "text": [
      "Selected features: Index(['Fedu_1', 'Fedu_2'], dtype='object')\n",
      "                            OLS Regression Results                            \n",
      "==============================================================================\n",
      "Dep. Variable:                     G3   R-squared:                       0.025\n",
      "Model:                            OLS   Adj. R-squared:                  0.020\n",
      "Method:                 Least Squares   F-statistic:                     5.005\n",
      "Date:                Wed, 19 Jun 2024   Prob (F-statistic):            0.00714\n",
      "Time:                        13:29:34   Log-Likelihood:                -1156.2\n",
      "No. Observations:                 395   AIC:                             2318.\n",
      "Df Residuals:                     392   BIC:                             2330.\n",
      "Df Model:                           2                                         \n",
      "Covariance Type:            nonrobust                                         \n",
      "==============================================================================\n",
      "                 coef    std err          t      P>|t|      [0.025      0.975]\n",
      "------------------------------------------------------------------------------\n",
      "const         11.0253      0.322     34.205      0.000      10.392      11.659\n",
      "Fedu_1        -1.8667      0.596     -3.134      0.002      -3.038      -0.696\n",
      "Fedu_2        -0.7644      0.532     -1.437      0.151      -1.810       0.281\n",
      "==============================================================================\n",
      "Omnibus:                       33.014   Durbin-Watson:                   1.976\n",
      "Prob(Omnibus):                  0.000   Jarque-Bera (JB):               38.836\n",
      "Skew:                          -0.740   Prob(JB):                     3.69e-09\n",
      "Kurtosis:                       3.413   Cond. No.                         3.26\n",
      "==============================================================================\n",
      "\n",
      "Notes:\n",
      "[1] Standard Errors assume that the covariance matrix of the errors is correctly specified.\n"
     ]
    }
   ],
   "source": [
    "# Reduce number of features using Recursive Feature Elimination (RFE) and fit linear regression for math class at Gabriel Pereira\n",
    "\n",
    "model = LinearRegression()\n",
    "rfe = RFE(estimator=model, n_features_to_select=2)\n",
    "rfe = rfe.fit(demo_math_dummies, G3_math)\n",
    "\n",
    "# Get the selected features\n",
    "selected_features = demo_math_dummies.columns[rfe.support_]\n",
    "print(\"Selected features:\", selected_features)\n",
    "\n",
    "# Fit the model again with selected features\n",
    "X_selected = demo_math_dummies[selected_features]\n",
    "X_selected = sm.add_constant(X_selected)\n",
    "model_selected = sm.OLS(G3_math, X_selected).fit()\n",
    "print(model_selected.summary())"
   ]
  },
  {
   "cell_type": "code",
   "execution_count": 24,
   "id": "4500df6d0325eeb5",
   "metadata": {},
   "outputs": [
    {
     "name": "stdout",
     "output_type": "stream",
     "text": [
      "Selected features: Index(['sex_M', 'Medu_4', 'Fedu_1'], dtype='object')\n",
      "                            OLS Regression Results                            \n",
      "==============================================================================\n",
      "Dep. Variable:                     G3   R-squared:                       0.087\n",
      "Model:                            OLS   Adj. R-squared:                  0.083\n",
      "Method:                 Least Squares   F-statistic:                     20.55\n",
      "Date:                Wed, 19 Jun 2024   Prob (F-statistic):           9.98e-13\n",
      "Time:                        13:29:38   Log-Likelihood:                -1651.8\n",
      "No. Observations:                 649   AIC:                             3312.\n",
      "Df Residuals:                     645   BIC:                             3330.\n",
      "Df Model:                           3                                         \n",
      "Covariance Type:            nonrobust                                         \n",
      "==============================================================================\n",
      "                 coef    std err          t      P>|t|      [0.025      0.975]\n",
      "------------------------------------------------------------------------------\n",
      "const         12.2140      0.200     60.975      0.000      11.821      12.607\n",
      "sex_M         -1.0397      0.248     -4.185      0.000      -1.528      -0.552\n",
      "Medu_4         1.4102      0.288      4.891      0.000       0.844       1.976\n",
      "Fedu_1        -0.9775      0.288     -3.392      0.001      -1.543      -0.412\n",
      "==============================================================================\n",
      "Omnibus:                      136.389   Durbin-Watson:                   1.677\n",
      "Prob(Omnibus):                  0.000   Jarque-Bera (JB):              419.969\n",
      "Skew:                          -1.001   Prob(JB):                     6.38e-92\n",
      "Kurtosis:                       6.394   Cond. No.                         3.44\n",
      "==============================================================================\n",
      "\n",
      "Notes:\n",
      "[1] Standard Errors assume that the covariance matrix of the errors is correctly specified.\n"
     ]
    }
   ],
   "source": [
    "# Reduce number of features using Recursive Feature Elimination (RFE) and fit linear regression for langauge class at Gabriel Pereira\n",
    "\n",
    "model = LinearRegression()\n",
    "rfe = RFE(estimator=model, n_features_to_select=3)\n",
    "rfe = rfe.fit(demo_language_dummies, G3_lang)\n",
    "\n",
    "# Get the selected features\n",
    "selected_features = demo_language_dummies.columns[rfe.support_]\n",
    "print(\"Selected features:\", selected_features)\n",
    "\n",
    "# Fit the model again with selected features\n",
    "X_selected = demo_language_dummies[selected_features]\n",
    "X_selected = sm.add_constant(X_selected)\n",
    "model_selected = sm.OLS(G3_lang, X_selected.astype(int)).fit()\n",
    "print(model_selected.summary())"
   ]
  },
  {
   "cell_type": "code",
   "execution_count": null,
   "id": "c9b5090c-7fdc-4c1d-a045-98e6c9860b4e",
   "metadata": {},
   "outputs": [],
   "source": []
  }
 ],
 "metadata": {
  "kernelspec": {
   "display_name": "Python 3 (ipykernel)",
   "language": "python",
   "name": "python3"
  },
  "language_info": {
   "codemirror_mode": {
    "name": "ipython",
    "version": 3
   },
   "file_extension": ".py",
   "mimetype": "text/x-python",
   "name": "python",
   "nbconvert_exporter": "python",
   "pygments_lexer": "ipython3",
   "version": "3.12.4"
  }
 },
 "nbformat": 4,
 "nbformat_minor": 5
}
